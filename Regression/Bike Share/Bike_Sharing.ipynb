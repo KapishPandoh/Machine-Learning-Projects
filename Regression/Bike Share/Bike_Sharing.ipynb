{
 "cells": [
  {
   "cell_type": "markdown",
   "metadata": {},
   "source": [
    "**The data consists of the following columns:**\n",
    "\n",
    "- instant: A unique row identifier\n",
    "- dteday: The date on which the data was observed - in this case, the data was collected daily; so there's one row per date.\n",
    "- season: A numerically encoded value indicating the season\n",
    "    * 1:spring\n",
    "    * 2:summer\n",
    "    * 3:fall \n",
    "    * 4:winter\n",
    "- yr: The year of the study in which the observation was made (the study took place over two years - year 0 represents 2011, and year 1 represents 2012)\n",
    "- mnth: The calendar month in which the observation was made (1:January ... 12:December)\n",
    "- holiday: A binary value indicating whether or not the observation was made on a public holiday)\n",
    "- weekday: The day of the week on which the observation was made (0:Sunday ... 6:Saturday)\n",
    "- workingday: A binary value indicating whether or not the day is a working day (not a weekend or holiday)\n",
    "- weathersit: A categorical value indicating the weather situation\n",
    "     * 1:clear\n",
    "     * 2:mist/cloud\n",
    "     * 3:light rain/snow\n",
    "     * 4:heavy rain/hail/snow/fog\n",
    "- temp: The temperature in celsius (normalized)\n",
    "- atemp: The apparent (\"feels-like\") temperature in celsius (normalized)\n",
    "- hum: The humidity level (normalized)\n",
    "- windspeed: The windspeed (normalized)\n",
    "- rentals: The number of bicycle rentals recorded."
   ]
  },
  {
   "cell_type": "markdown",
   "metadata": {},
   "source": [
    "## Import Libraries"
   ]
  },
  {
   "cell_type": "code",
   "execution_count": 1,
   "metadata": {},
   "outputs": [],
   "source": [
    "import pandas as pd\n",
    "import numpy as np"
   ]
  },
  {
   "cell_type": "code",
   "execution_count": 2,
   "metadata": {},
   "outputs": [],
   "source": [
    "import seaborn as sns\n",
    "sns.set_style('whitegrid')\n",
    "\n",
    "import matplotlib.pyplot as plt\n",
    "%matplotlib inline"
   ]
  },
  {
   "cell_type": "code",
   "execution_count": 3,
   "metadata": {},
   "outputs": [],
   "source": [
    "from sklearn.preprocessing import StandardScaler"
   ]
  },
  {
   "cell_type": "code",
   "execution_count": 4,
   "metadata": {},
   "outputs": [],
   "source": [
    "from sklearn.model_selection import train_test_split "
   ]
  },
  {
   "cell_type": "code",
   "execution_count": 5,
   "metadata": {},
   "outputs": [],
   "source": [
    "from sklearn.model_selection import GridSearchCV"
   ]
  },
  {
   "cell_type": "code",
   "execution_count": 6,
   "metadata": {},
   "outputs": [],
   "source": [
    "from sklearn.linear_model import LinearRegression ,Lasso ,Ridge\n",
    "from sklearn.tree import DecisionTreeRegressor\n",
    "from sklearn.ensemble import RandomForestRegressor ,ExtraTreesRegressor\n",
    "from catboost import CatBoostRegressor\n",
    "from sklearn.neighbors import KNeighborsRegressor\n",
    "from xgboost import XGBRegressor"
   ]
  },
  {
   "cell_type": "code",
   "execution_count": 7,
   "metadata": {},
   "outputs": [],
   "source": [
    "from sklearn.metrics import mean_squared_error as mse"
   ]
  },
  {
   "cell_type": "code",
   "execution_count": 8,
   "metadata": {},
   "outputs": [],
   "source": [
    "# Mean squared logarithmic error regression loss.\n",
    "from sklearn.metrics import mean_squared_log_error\n",
    "\n",
    "# Returns :\n",
    "# A non-negative floating point value (the best value is 0.0)"
   ]
  },
  {
   "cell_type": "code",
   "execution_count": 9,
   "metadata": {},
   "outputs": [],
   "source": [
    "from sklearn.metrics import r2_score"
   ]
  },
  {
   "cell_type": "code",
   "execution_count": 10,
   "metadata": {},
   "outputs": [],
   "source": [
    "import warnings\n",
    "warnings.filterwarnings('ignore')"
   ]
  },
  {
   "cell_type": "markdown",
   "metadata": {},
   "source": [
    "## Load Dataset"
   ]
  },
  {
   "cell_type": "code",
   "execution_count": 11,
   "metadata": {},
   "outputs": [
    {
     "data": {
      "text/html": [
       "<div>\n",
       "<style scoped>\n",
       "    .dataframe tbody tr th:only-of-type {\n",
       "        vertical-align: middle;\n",
       "    }\n",
       "\n",
       "    .dataframe tbody tr th {\n",
       "        vertical-align: top;\n",
       "    }\n",
       "\n",
       "    .dataframe thead th {\n",
       "        text-align: right;\n",
       "    }\n",
       "</style>\n",
       "<table border=\"1\" class=\"dataframe\">\n",
       "  <thead>\n",
       "    <tr style=\"text-align: right;\">\n",
       "      <th></th>\n",
       "      <th>instant</th>\n",
       "      <th>dteday</th>\n",
       "      <th>season</th>\n",
       "      <th>yr</th>\n",
       "      <th>mnth</th>\n",
       "      <th>holiday</th>\n",
       "      <th>weekday</th>\n",
       "      <th>workingday</th>\n",
       "      <th>weathersit</th>\n",
       "      <th>temp</th>\n",
       "      <th>atemp</th>\n",
       "      <th>hum</th>\n",
       "      <th>windspeed</th>\n",
       "      <th>rentals</th>\n",
       "    </tr>\n",
       "  </thead>\n",
       "  <tbody>\n",
       "    <tr>\n",
       "      <th>0</th>\n",
       "      <td>1</td>\n",
       "      <td>1/1/2011</td>\n",
       "      <td>1</td>\n",
       "      <td>0</td>\n",
       "      <td>1</td>\n",
       "      <td>0</td>\n",
       "      <td>6</td>\n",
       "      <td>0</td>\n",
       "      <td>2</td>\n",
       "      <td>0.344167</td>\n",
       "      <td>0.363625</td>\n",
       "      <td>0.805833</td>\n",
       "      <td>0.160446</td>\n",
       "      <td>331</td>\n",
       "    </tr>\n",
       "    <tr>\n",
       "      <th>1</th>\n",
       "      <td>2</td>\n",
       "      <td>1/2/2011</td>\n",
       "      <td>1</td>\n",
       "      <td>0</td>\n",
       "      <td>1</td>\n",
       "      <td>0</td>\n",
       "      <td>0</td>\n",
       "      <td>0</td>\n",
       "      <td>2</td>\n",
       "      <td>0.363478</td>\n",
       "      <td>0.353739</td>\n",
       "      <td>0.696087</td>\n",
       "      <td>0.248539</td>\n",
       "      <td>131</td>\n",
       "    </tr>\n",
       "    <tr>\n",
       "      <th>2</th>\n",
       "      <td>3</td>\n",
       "      <td>1/3/2011</td>\n",
       "      <td>1</td>\n",
       "      <td>0</td>\n",
       "      <td>1</td>\n",
       "      <td>0</td>\n",
       "      <td>1</td>\n",
       "      <td>1</td>\n",
       "      <td>1</td>\n",
       "      <td>0.196364</td>\n",
       "      <td>0.189405</td>\n",
       "      <td>0.437273</td>\n",
       "      <td>0.248309</td>\n",
       "      <td>120</td>\n",
       "    </tr>\n",
       "    <tr>\n",
       "      <th>3</th>\n",
       "      <td>4</td>\n",
       "      <td>1/4/2011</td>\n",
       "      <td>1</td>\n",
       "      <td>0</td>\n",
       "      <td>1</td>\n",
       "      <td>0</td>\n",
       "      <td>2</td>\n",
       "      <td>1</td>\n",
       "      <td>1</td>\n",
       "      <td>0.200000</td>\n",
       "      <td>0.212122</td>\n",
       "      <td>0.590435</td>\n",
       "      <td>0.160296</td>\n",
       "      <td>108</td>\n",
       "    </tr>\n",
       "    <tr>\n",
       "      <th>4</th>\n",
       "      <td>5</td>\n",
       "      <td>1/5/2011</td>\n",
       "      <td>1</td>\n",
       "      <td>0</td>\n",
       "      <td>1</td>\n",
       "      <td>0</td>\n",
       "      <td>3</td>\n",
       "      <td>1</td>\n",
       "      <td>1</td>\n",
       "      <td>0.226957</td>\n",
       "      <td>0.229270</td>\n",
       "      <td>0.436957</td>\n",
       "      <td>0.186900</td>\n",
       "      <td>82</td>\n",
       "    </tr>\n",
       "  </tbody>\n",
       "</table>\n",
       "</div>"
      ],
      "text/plain": [
       "   instant    dteday  season  yr  mnth  holiday  weekday  workingday  \\\n",
       "0        1  1/1/2011       1   0     1        0        6           0   \n",
       "1        2  1/2/2011       1   0     1        0        0           0   \n",
       "2        3  1/3/2011       1   0     1        0        1           1   \n",
       "3        4  1/4/2011       1   0     1        0        2           1   \n",
       "4        5  1/5/2011       1   0     1        0        3           1   \n",
       "\n",
       "   weathersit      temp     atemp       hum  windspeed  rentals  \n",
       "0           2  0.344167  0.363625  0.805833   0.160446      331  \n",
       "1           2  0.363478  0.353739  0.696087   0.248539      131  \n",
       "2           1  0.196364  0.189405  0.437273   0.248309      120  \n",
       "3           1  0.200000  0.212122  0.590435   0.160296      108  \n",
       "4           1  0.226957  0.229270  0.436957   0.186900       82  "
      ]
     },
     "execution_count": 11,
     "metadata": {},
     "output_type": "execute_result"
    }
   ],
   "source": [
    "data = pd.read_csv('daily_bike_share.csv')\n",
    "data.head()"
   ]
  },
  {
   "cell_type": "code",
   "execution_count": 12,
   "metadata": {},
   "outputs": [
    {
     "data": {
      "text/plain": [
       "(731, 14)"
      ]
     },
     "execution_count": 12,
     "metadata": {},
     "output_type": "execute_result"
    }
   ],
   "source": [
    "data.shape"
   ]
  },
  {
   "cell_type": "code",
   "execution_count": 13,
   "metadata": {},
   "outputs": [
    {
     "name": "stdout",
     "output_type": "stream",
     "text": [
      "<class 'pandas.core.frame.DataFrame'>\n",
      "RangeIndex: 731 entries, 0 to 730\n",
      "Data columns (total 14 columns):\n",
      " #   Column      Non-Null Count  Dtype  \n",
      "---  ------      --------------  -----  \n",
      " 0   instant     731 non-null    int64  \n",
      " 1   dteday      731 non-null    object \n",
      " 2   season      731 non-null    int64  \n",
      " 3   yr          731 non-null    int64  \n",
      " 4   mnth        731 non-null    int64  \n",
      " 5   holiday     731 non-null    int64  \n",
      " 6   weekday     731 non-null    int64  \n",
      " 7   workingday  731 non-null    int64  \n",
      " 8   weathersit  731 non-null    int64  \n",
      " 9   temp        731 non-null    float64\n",
      " 10  atemp       731 non-null    float64\n",
      " 11  hum         731 non-null    float64\n",
      " 12  windspeed   731 non-null    float64\n",
      " 13  rentals     731 non-null    int64  \n",
      "dtypes: float64(4), int64(9), object(1)\n",
      "memory usage: 80.1+ KB\n"
     ]
    }
   ],
   "source": [
    "data.info()"
   ]
  },
  {
   "cell_type": "code",
   "execution_count": 14,
   "metadata": {},
   "outputs": [
    {
     "data": {
      "text/html": [
       "<div>\n",
       "<style scoped>\n",
       "    .dataframe tbody tr th:only-of-type {\n",
       "        vertical-align: middle;\n",
       "    }\n",
       "\n",
       "    .dataframe tbody tr th {\n",
       "        vertical-align: top;\n",
       "    }\n",
       "\n",
       "    .dataframe thead th {\n",
       "        text-align: right;\n",
       "    }\n",
       "</style>\n",
       "<table border=\"1\" class=\"dataframe\">\n",
       "  <thead>\n",
       "    <tr style=\"text-align: right;\">\n",
       "      <th></th>\n",
       "      <th>count</th>\n",
       "      <th>mean</th>\n",
       "      <th>std</th>\n",
       "      <th>min</th>\n",
       "      <th>25%</th>\n",
       "      <th>50%</th>\n",
       "      <th>75%</th>\n",
       "      <th>max</th>\n",
       "    </tr>\n",
       "  </thead>\n",
       "  <tbody>\n",
       "    <tr>\n",
       "      <th>instant</th>\n",
       "      <td>731.0</td>\n",
       "      <td>366.000000</td>\n",
       "      <td>211.165812</td>\n",
       "      <td>1.000000</td>\n",
       "      <td>183.500000</td>\n",
       "      <td>366.000000</td>\n",
       "      <td>548.500000</td>\n",
       "      <td>731.000000</td>\n",
       "    </tr>\n",
       "    <tr>\n",
       "      <th>season</th>\n",
       "      <td>731.0</td>\n",
       "      <td>2.496580</td>\n",
       "      <td>1.110807</td>\n",
       "      <td>1.000000</td>\n",
       "      <td>2.000000</td>\n",
       "      <td>3.000000</td>\n",
       "      <td>3.000000</td>\n",
       "      <td>4.000000</td>\n",
       "    </tr>\n",
       "    <tr>\n",
       "      <th>yr</th>\n",
       "      <td>731.0</td>\n",
       "      <td>0.500684</td>\n",
       "      <td>0.500342</td>\n",
       "      <td>0.000000</td>\n",
       "      <td>0.000000</td>\n",
       "      <td>1.000000</td>\n",
       "      <td>1.000000</td>\n",
       "      <td>1.000000</td>\n",
       "    </tr>\n",
       "    <tr>\n",
       "      <th>mnth</th>\n",
       "      <td>731.0</td>\n",
       "      <td>6.519836</td>\n",
       "      <td>3.451913</td>\n",
       "      <td>1.000000</td>\n",
       "      <td>4.000000</td>\n",
       "      <td>7.000000</td>\n",
       "      <td>10.000000</td>\n",
       "      <td>12.000000</td>\n",
       "    </tr>\n",
       "    <tr>\n",
       "      <th>holiday</th>\n",
       "      <td>731.0</td>\n",
       "      <td>0.028728</td>\n",
       "      <td>0.167155</td>\n",
       "      <td>0.000000</td>\n",
       "      <td>0.000000</td>\n",
       "      <td>0.000000</td>\n",
       "      <td>0.000000</td>\n",
       "      <td>1.000000</td>\n",
       "    </tr>\n",
       "    <tr>\n",
       "      <th>weekday</th>\n",
       "      <td>731.0</td>\n",
       "      <td>2.997264</td>\n",
       "      <td>2.004787</td>\n",
       "      <td>0.000000</td>\n",
       "      <td>1.000000</td>\n",
       "      <td>3.000000</td>\n",
       "      <td>5.000000</td>\n",
       "      <td>6.000000</td>\n",
       "    </tr>\n",
       "    <tr>\n",
       "      <th>workingday</th>\n",
       "      <td>731.0</td>\n",
       "      <td>0.683995</td>\n",
       "      <td>0.465233</td>\n",
       "      <td>0.000000</td>\n",
       "      <td>0.000000</td>\n",
       "      <td>1.000000</td>\n",
       "      <td>1.000000</td>\n",
       "      <td>1.000000</td>\n",
       "    </tr>\n",
       "    <tr>\n",
       "      <th>weathersit</th>\n",
       "      <td>731.0</td>\n",
       "      <td>1.395349</td>\n",
       "      <td>0.544894</td>\n",
       "      <td>1.000000</td>\n",
       "      <td>1.000000</td>\n",
       "      <td>1.000000</td>\n",
       "      <td>2.000000</td>\n",
       "      <td>3.000000</td>\n",
       "    </tr>\n",
       "    <tr>\n",
       "      <th>temp</th>\n",
       "      <td>731.0</td>\n",
       "      <td>0.495385</td>\n",
       "      <td>0.183051</td>\n",
       "      <td>0.059130</td>\n",
       "      <td>0.337083</td>\n",
       "      <td>0.498333</td>\n",
       "      <td>0.655417</td>\n",
       "      <td>0.861667</td>\n",
       "    </tr>\n",
       "    <tr>\n",
       "      <th>atemp</th>\n",
       "      <td>731.0</td>\n",
       "      <td>0.474354</td>\n",
       "      <td>0.162961</td>\n",
       "      <td>0.079070</td>\n",
       "      <td>0.337842</td>\n",
       "      <td>0.486733</td>\n",
       "      <td>0.608602</td>\n",
       "      <td>0.840896</td>\n",
       "    </tr>\n",
       "    <tr>\n",
       "      <th>hum</th>\n",
       "      <td>731.0</td>\n",
       "      <td>0.627894</td>\n",
       "      <td>0.142429</td>\n",
       "      <td>0.000000</td>\n",
       "      <td>0.520000</td>\n",
       "      <td>0.626667</td>\n",
       "      <td>0.730209</td>\n",
       "      <td>0.972500</td>\n",
       "    </tr>\n",
       "    <tr>\n",
       "      <th>windspeed</th>\n",
       "      <td>731.0</td>\n",
       "      <td>0.190486</td>\n",
       "      <td>0.077498</td>\n",
       "      <td>0.022392</td>\n",
       "      <td>0.134950</td>\n",
       "      <td>0.180975</td>\n",
       "      <td>0.233214</td>\n",
       "      <td>0.507463</td>\n",
       "    </tr>\n",
       "    <tr>\n",
       "      <th>rentals</th>\n",
       "      <td>731.0</td>\n",
       "      <td>848.176471</td>\n",
       "      <td>686.622488</td>\n",
       "      <td>2.000000</td>\n",
       "      <td>315.500000</td>\n",
       "      <td>713.000000</td>\n",
       "      <td>1096.000000</td>\n",
       "      <td>3410.000000</td>\n",
       "    </tr>\n",
       "  </tbody>\n",
       "</table>\n",
       "</div>"
      ],
      "text/plain": [
       "            count        mean         std       min         25%         50%  \\\n",
       "instant     731.0  366.000000  211.165812  1.000000  183.500000  366.000000   \n",
       "season      731.0    2.496580    1.110807  1.000000    2.000000    3.000000   \n",
       "yr          731.0    0.500684    0.500342  0.000000    0.000000    1.000000   \n",
       "mnth        731.0    6.519836    3.451913  1.000000    4.000000    7.000000   \n",
       "holiday     731.0    0.028728    0.167155  0.000000    0.000000    0.000000   \n",
       "weekday     731.0    2.997264    2.004787  0.000000    1.000000    3.000000   \n",
       "workingday  731.0    0.683995    0.465233  0.000000    0.000000    1.000000   \n",
       "weathersit  731.0    1.395349    0.544894  1.000000    1.000000    1.000000   \n",
       "temp        731.0    0.495385    0.183051  0.059130    0.337083    0.498333   \n",
       "atemp       731.0    0.474354    0.162961  0.079070    0.337842    0.486733   \n",
       "hum         731.0    0.627894    0.142429  0.000000    0.520000    0.626667   \n",
       "windspeed   731.0    0.190486    0.077498  0.022392    0.134950    0.180975   \n",
       "rentals     731.0  848.176471  686.622488  2.000000  315.500000  713.000000   \n",
       "\n",
       "                    75%          max  \n",
       "instant      548.500000   731.000000  \n",
       "season         3.000000     4.000000  \n",
       "yr             1.000000     1.000000  \n",
       "mnth          10.000000    12.000000  \n",
       "holiday        0.000000     1.000000  \n",
       "weekday        5.000000     6.000000  \n",
       "workingday     1.000000     1.000000  \n",
       "weathersit     2.000000     3.000000  \n",
       "temp           0.655417     0.861667  \n",
       "atemp          0.608602     0.840896  \n",
       "hum            0.730209     0.972500  \n",
       "windspeed      0.233214     0.507463  \n",
       "rentals     1096.000000  3410.000000  "
      ]
     },
     "execution_count": 14,
     "metadata": {},
     "output_type": "execute_result"
    }
   ],
   "source": [
    "data.describe().T"
   ]
  },
  {
   "cell_type": "code",
   "execution_count": 15,
   "metadata": {},
   "outputs": [
    {
     "data": {
      "text/html": [
       "<div>\n",
       "<style scoped>\n",
       "    .dataframe tbody tr th:only-of-type {\n",
       "        vertical-align: middle;\n",
       "    }\n",
       "\n",
       "    .dataframe tbody tr th {\n",
       "        vertical-align: top;\n",
       "    }\n",
       "\n",
       "    .dataframe thead th {\n",
       "        text-align: right;\n",
       "    }\n",
       "</style>\n",
       "<table border=\"1\" class=\"dataframe\">\n",
       "  <thead>\n",
       "    <tr style=\"text-align: right;\">\n",
       "      <th></th>\n",
       "      <th>count</th>\n",
       "      <th>unique</th>\n",
       "      <th>top</th>\n",
       "      <th>freq</th>\n",
       "    </tr>\n",
       "  </thead>\n",
       "  <tbody>\n",
       "    <tr>\n",
       "      <th>dteday</th>\n",
       "      <td>731</td>\n",
       "      <td>731</td>\n",
       "      <td>8/10/2012</td>\n",
       "      <td>1</td>\n",
       "    </tr>\n",
       "  </tbody>\n",
       "</table>\n",
       "</div>"
      ],
      "text/plain": [
       "       count unique        top freq\n",
       "dteday   731    731  8/10/2012    1"
      ]
     },
     "execution_count": 15,
     "metadata": {},
     "output_type": "execute_result"
    }
   ],
   "source": [
    "data.describe(include='object').T"
   ]
  },
  {
   "cell_type": "code",
   "execution_count": 16,
   "metadata": {},
   "outputs": [
    {
     "data": {
      "text/plain": [
       "instant       0\n",
       "dteday        0\n",
       "season        0\n",
       "yr            0\n",
       "mnth          0\n",
       "holiday       0\n",
       "weekday       0\n",
       "workingday    0\n",
       "weathersit    0\n",
       "temp          0\n",
       "atemp         0\n",
       "hum           0\n",
       "windspeed     0\n",
       "rentals       0\n",
       "dtype: int64"
      ]
     },
     "execution_count": 16,
     "metadata": {},
     "output_type": "execute_result"
    }
   ],
   "source": [
    "data.isnull().sum()"
   ]
  },
  {
   "cell_type": "markdown",
   "metadata": {},
   "source": [
    "## EDA"
   ]
  },
  {
   "cell_type": "code",
   "execution_count": 17,
   "metadata": {},
   "outputs": [],
   "source": [
    "data = data.drop(['instant','dteday'] ,axis=1)"
   ]
  },
  {
   "cell_type": "code",
   "execution_count": 18,
   "metadata": {},
   "outputs": [
    {
     "data": {
      "text/html": [
       "<div>\n",
       "<style scoped>\n",
       "    .dataframe tbody tr th:only-of-type {\n",
       "        vertical-align: middle;\n",
       "    }\n",
       "\n",
       "    .dataframe tbody tr th {\n",
       "        vertical-align: top;\n",
       "    }\n",
       "\n",
       "    .dataframe thead th {\n",
       "        text-align: right;\n",
       "    }\n",
       "</style>\n",
       "<table border=\"1\" class=\"dataframe\">\n",
       "  <thead>\n",
       "    <tr style=\"text-align: right;\">\n",
       "      <th></th>\n",
       "      <th>season</th>\n",
       "      <th>yr</th>\n",
       "      <th>mnth</th>\n",
       "      <th>holiday</th>\n",
       "      <th>weekday</th>\n",
       "      <th>workingday</th>\n",
       "      <th>weathersit</th>\n",
       "      <th>temp</th>\n",
       "      <th>atemp</th>\n",
       "      <th>hum</th>\n",
       "      <th>windspeed</th>\n",
       "      <th>rentals</th>\n",
       "    </tr>\n",
       "  </thead>\n",
       "  <tbody>\n",
       "    <tr>\n",
       "      <th>0</th>\n",
       "      <td>1</td>\n",
       "      <td>0</td>\n",
       "      <td>1</td>\n",
       "      <td>0</td>\n",
       "      <td>6</td>\n",
       "      <td>0</td>\n",
       "      <td>2</td>\n",
       "      <td>0.344167</td>\n",
       "      <td>0.363625</td>\n",
       "      <td>0.805833</td>\n",
       "      <td>0.160446</td>\n",
       "      <td>331</td>\n",
       "    </tr>\n",
       "    <tr>\n",
       "      <th>1</th>\n",
       "      <td>1</td>\n",
       "      <td>0</td>\n",
       "      <td>1</td>\n",
       "      <td>0</td>\n",
       "      <td>0</td>\n",
       "      <td>0</td>\n",
       "      <td>2</td>\n",
       "      <td>0.363478</td>\n",
       "      <td>0.353739</td>\n",
       "      <td>0.696087</td>\n",
       "      <td>0.248539</td>\n",
       "      <td>131</td>\n",
       "    </tr>\n",
       "    <tr>\n",
       "      <th>2</th>\n",
       "      <td>1</td>\n",
       "      <td>0</td>\n",
       "      <td>1</td>\n",
       "      <td>0</td>\n",
       "      <td>1</td>\n",
       "      <td>1</td>\n",
       "      <td>1</td>\n",
       "      <td>0.196364</td>\n",
       "      <td>0.189405</td>\n",
       "      <td>0.437273</td>\n",
       "      <td>0.248309</td>\n",
       "      <td>120</td>\n",
       "    </tr>\n",
       "    <tr>\n",
       "      <th>3</th>\n",
       "      <td>1</td>\n",
       "      <td>0</td>\n",
       "      <td>1</td>\n",
       "      <td>0</td>\n",
       "      <td>2</td>\n",
       "      <td>1</td>\n",
       "      <td>1</td>\n",
       "      <td>0.200000</td>\n",
       "      <td>0.212122</td>\n",
       "      <td>0.590435</td>\n",
       "      <td>0.160296</td>\n",
       "      <td>108</td>\n",
       "    </tr>\n",
       "    <tr>\n",
       "      <th>4</th>\n",
       "      <td>1</td>\n",
       "      <td>0</td>\n",
       "      <td>1</td>\n",
       "      <td>0</td>\n",
       "      <td>3</td>\n",
       "      <td>1</td>\n",
       "      <td>1</td>\n",
       "      <td>0.226957</td>\n",
       "      <td>0.229270</td>\n",
       "      <td>0.436957</td>\n",
       "      <td>0.186900</td>\n",
       "      <td>82</td>\n",
       "    </tr>\n",
       "  </tbody>\n",
       "</table>\n",
       "</div>"
      ],
      "text/plain": [
       "   season  yr  mnth  holiday  weekday  workingday  weathersit      temp  \\\n",
       "0       1   0     1        0        6           0           2  0.344167   \n",
       "1       1   0     1        0        0           0           2  0.363478   \n",
       "2       1   0     1        0        1           1           1  0.196364   \n",
       "3       1   0     1        0        2           1           1  0.200000   \n",
       "4       1   0     1        0        3           1           1  0.226957   \n",
       "\n",
       "      atemp       hum  windspeed  rentals  \n",
       "0  0.363625  0.805833   0.160446      331  \n",
       "1  0.353739  0.696087   0.248539      131  \n",
       "2  0.189405  0.437273   0.248309      120  \n",
       "3  0.212122  0.590435   0.160296      108  \n",
       "4  0.229270  0.436957   0.186900       82  "
      ]
     },
     "execution_count": 18,
     "metadata": {},
     "output_type": "execute_result"
    }
   ],
   "source": [
    "data.head()"
   ]
  },
  {
   "cell_type": "code",
   "execution_count": 19,
   "metadata": {},
   "outputs": [
    {
     "data": {
      "text/html": [
       "<div>\n",
       "<style scoped>\n",
       "    .dataframe tbody tr th:only-of-type {\n",
       "        vertical-align: middle;\n",
       "    }\n",
       "\n",
       "    .dataframe tbody tr th {\n",
       "        vertical-align: top;\n",
       "    }\n",
       "\n",
       "    .dataframe thead th {\n",
       "        text-align: right;\n",
       "    }\n",
       "</style>\n",
       "<table border=\"1\" class=\"dataframe\">\n",
       "  <thead>\n",
       "    <tr style=\"text-align: right;\">\n",
       "      <th></th>\n",
       "      <th>season</th>\n",
       "      <th>yr</th>\n",
       "      <th>mnth</th>\n",
       "      <th>holiday</th>\n",
       "      <th>weekday</th>\n",
       "      <th>workingday</th>\n",
       "      <th>weathersit</th>\n",
       "      <th>temp</th>\n",
       "      <th>atemp</th>\n",
       "      <th>hum</th>\n",
       "      <th>windspeed</th>\n",
       "      <th>rentals</th>\n",
       "    </tr>\n",
       "  </thead>\n",
       "  <tbody>\n",
       "  </tbody>\n",
       "</table>\n",
       "</div>"
      ],
      "text/plain": [
       "Empty DataFrame\n",
       "Columns: [season, yr, mnth, holiday, weekday, workingday, weathersit, temp, atemp, hum, windspeed, rentals]\n",
       "Index: []"
      ]
     },
     "execution_count": 19,
     "metadata": {},
     "output_type": "execute_result"
    }
   ],
   "source": [
    "data[data.duplicated()]"
   ]
  },
  {
   "cell_type": "markdown",
   "metadata": {},
   "source": [
    "<h3 style='color:blue' align='center'> 'Month vs Rentals' </h3>"
   ]
  },
  {
   "cell_type": "code",
   "execution_count": 20,
   "metadata": {},
   "outputs": [
    {
     "data": {
      "text/plain": [
       "mnth\n",
       "1      194.225806\n",
       "2      262.508772\n",
       "3      716.838710\n",
       "4     1013.366667\n",
       "5     1214.274194\n",
       "6     1231.766667\n",
       "7     1260.596774\n",
       "8     1161.919355\n",
       "9     1172.050000\n",
       "10     963.870968\n",
       "11     610.050000\n",
       "12     349.887097\n",
       "Name: rentals, dtype: float64"
      ]
     },
     "execution_count": 20,
     "metadata": {},
     "output_type": "execute_result"
    }
   ],
   "source": [
    "month_data = data.groupby('mnth')['rentals'].mean()\n",
    "month_data"
   ]
  },
  {
   "cell_type": "code",
   "execution_count": 21,
   "metadata": {},
   "outputs": [
    {
     "data": {
      "text/plain": [
       "Text(0.5, 1.0, 'Month vs Rentals')"
      ]
     },
     "execution_count": 21,
     "metadata": {},
     "output_type": "execute_result"
    },
    {
     "data": {
      "image/png": "[encoded data removed]",
      "text/plain": [
       "<Figure size 432x288 with 1 Axes>"
      ]
     },
     "metadata": {
      "needs_background": "light"
     },
     "output_type": "display_data"
    }
   ],
   "source": [
    "plt.plot(month_data.index ,month_data)\n",
    "\n",
    "plt.xlabel('Month')\n",
    "plt.ylabel('Rentals')\n",
    "\n",
    "plt.xticks(np.arange(1,13))\n",
    "\n",
    "plt.title('Month vs Rentals')"
   ]
  },
  {
   "cell_type": "markdown",
   "metadata": {},
   "source": [
    "<h3 style='color:blue' align='center'> 'Year vs Rentals' </h3>"
   ]
  },
  {
   "cell_type": "code",
   "execution_count": 22,
   "metadata": {},
   "outputs": [
    {
     "data": {
      "text/plain": [
       "yr\n",
       "0     677.402740\n",
       "1    1018.483607\n",
       "Name: rentals, dtype: float64"
      ]
     },
     "execution_count": 22,
     "metadata": {},
     "output_type": "execute_result"
    }
   ],
   "source": [
    "year_data = data.groupby('yr')['rentals'].mean()\n",
    "year_data"
   ]
  },
  {
   "cell_type": "code",
   "execution_count": 23,
   "metadata": {},
   "outputs": [
    {
     "data": {
      "text/plain": [
       "Text(0.5, 1.0, 'Year vs Rentals')"
      ]
     },
     "execution_count": 23,
     "metadata": {},
     "output_type": "execute_result"
    },
    {
     "data": {
      "image/png": "[encoded data removed]",
      "text/plain": [
       "<Figure size 432x288 with 1 Axes>"
      ]
     },
     "metadata": {
      "needs_background": "light"
     },
     "output_type": "display_data"
    }
   ],
   "source": [
    "sns.barplot(year_data.index ,year_data)\n",
    "\n",
    "plt.xlabel('Year')\n",
    "plt.ylabel('Rentals')\n",
    "\n",
    "plt.title('Year vs Rentals')"
   ]
  },
  {
   "cell_type": "markdown",
   "metadata": {},
   "source": [
    "<h3 style='color:blue' align='center'> 'Seasons' </h3>"
   ]
  },
  {
   "cell_type": "code",
   "execution_count": 24,
   "metadata": {},
   "outputs": [
    {
     "data": {
      "text/plain": [
       "3    188\n",
       "2    184\n",
       "1    181\n",
       "4    178\n",
       "Name: season, dtype: int64"
      ]
     },
     "execution_count": 24,
     "metadata": {},
     "output_type": "execute_result"
    }
   ],
   "source": [
    "data['season'].value_counts()"
   ]
  },
  {
   "cell_type": "code",
   "execution_count": 25,
   "metadata": {},
   "outputs": [
    {
     "data": {
      "text/plain": [
       "season\n",
       "1     334.928177\n",
       "2    1106.097826\n",
       "3    1202.611702\n",
       "4     729.112360\n",
       "Name: rentals, dtype: float64"
      ]
     },
     "execution_count": 25,
     "metadata": {},
     "output_type": "execute_result"
    }
   ],
   "source": [
    "season_data = data.groupby('season')['rentals'].mean()\n",
    "season_data"
   ]
  },
  {
   "cell_type": "code",
   "execution_count": 26,
   "metadata": {},
   "outputs": [
    {
     "data": {
      "text/plain": [
       "Text(0.5, 1.0, 'Season vs Rentals')"
      ]
     },
     "execution_count": 26,
     "metadata": {},
     "output_type": "execute_result"
    },
    {
     "data": {
      "image/png": "[encoded data removed]",
      "text/plain": [
       "<Figure size 432x288 with 1 Axes>"
      ]
     },
     "metadata": {
      "needs_background": "light"
     },
     "output_type": "display_data"
    }
   ],
   "source": [
    "sns.barplot(season_data.index ,season_data)\n",
    "\n",
    "plt.xlabel('Season')\n",
    "plt.ylabel('Rentals')\n",
    "\n",
    "plt.title('Season vs Rentals')"
   ]
  },
  {
   "cell_type": "markdown",
   "metadata": {},
   "source": [
    "<h3 style='color:blue' align='center'> 'Workingday' </h3>"
   ]
  },
  {
   "cell_type": "code",
   "execution_count": 27,
   "metadata": {},
   "outputs": [
    {
     "data": {
      "text/plain": [
       "1    500\n",
       "0    231\n",
       "Name: workingday, dtype: int64"
      ]
     },
     "execution_count": 27,
     "metadata": {},
     "output_type": "execute_result"
    }
   ],
   "source": [
    "data['workingday'].value_counts()"
   ]
  },
  {
   "cell_type": "code",
   "execution_count": 28,
   "metadata": {},
   "outputs": [
    {
     "data": {
      "text/plain": [
       "workingday\n",
       "0    1371.134199\n",
       "1     606.570000\n",
       "Name: rentals, dtype: float64"
      ]
     },
     "execution_count": 28,
     "metadata": {},
     "output_type": "execute_result"
    }
   ],
   "source": [
    "workingday_data = data.groupby('workingday')['rentals'].mean()\n",
    "workingday_data"
   ]
  },
  {
   "cell_type": "code",
   "execution_count": 29,
   "metadata": {},
   "outputs": [
    {
     "data": {
      "text/plain": [
       "Text(0.5, 1.0, 'Workingday vs Rentals')"
      ]
     },
     "execution_count": 29,
     "metadata": {},
     "output_type": "execute_result"
    },
    {
     "data": {
      "image/png": "[encoded data removed]",
      "text/plain": [
       "<Figure size 432x288 with 1 Axes>"
      ]
     },
     "metadata": {
      "needs_background": "light"
     },
     "output_type": "display_data"
    }
   ],
   "source": [
    "sns.barplot(workingday_data.index ,workingday_data)\n",
    "\n",
    "plt.xlabel('Workingday')\n",
    "plt.ylabel('Rentals')\n",
    "\n",
    "\n",
    "plt.title('Workingday vs Rentals')"
   ]
  },
  {
   "cell_type": "markdown",
   "metadata": {},
   "source": [
    "<h3 style='color:blue' align='center'> 'Weathersit' </h3>"
   ]
  },
  {
   "cell_type": "code",
   "execution_count": 30,
   "metadata": {},
   "outputs": [
    {
     "data": {
      "text/plain": [
       "1    463\n",
       "2    247\n",
       "3     21\n",
       "Name: weathersit, dtype: int64"
      ]
     },
     "execution_count": 30,
     "metadata": {},
     "output_type": "execute_result"
    }
   ],
   "source": [
    "data['weathersit'].value_counts()"
   ]
  },
  {
   "cell_type": "code",
   "execution_count": 31,
   "metadata": {},
   "outputs": [
    {
     "data": {
      "text/plain": [
       "weathersit\n",
       "1    964.030238\n",
       "2    687.352227\n",
       "3    185.476190\n",
       "Name: rentals, dtype: float64"
      ]
     },
     "execution_count": 31,
     "metadata": {},
     "output_type": "execute_result"
    }
   ],
   "source": [
    "weathersit_data = data.groupby('weathersit')['rentals'].mean()\n",
    "weathersit_data"
   ]
  },
  {
   "cell_type": "code",
   "execution_count": 32,
   "metadata": {},
   "outputs": [
    {
     "data": {
      "text/plain": [
       "Text(0.5, 1.0, 'Weathersit vs Rentals')"
      ]
     },
     "execution_count": 32,
     "metadata": {},
     "output_type": "execute_result"
    },
    {
     "data": {
      "image/png": "[encoded data removed]",
      "text/plain": [
       "<Figure size 432x288 with 1 Axes>"
      ]
     },
     "metadata": {
      "needs_background": "light"
     },
     "output_type": "display_data"
    }
   ],
   "source": [
    "sns.barplot(weathersit_data.index ,weathersit_data)\n",
    "\n",
    "plt.xlabel('Weathersit')\n",
    "plt.ylabel('Rentals')\n",
    "\n",
    "\n",
    "plt.title('Weathersit vs Rentals')"
   ]
  },
  {
   "cell_type": "code",
   "execution_count": 33,
   "metadata": {},
   "outputs": [
    {
     "data": {
      "text/plain": [
       "Index(['season', 'yr', 'mnth', 'holiday', 'weekday', 'workingday',\n",
       "       'weathersit', 'temp', 'atemp', 'hum', 'windspeed', 'rentals'],\n",
       "      dtype='object')"
      ]
     },
     "execution_count": 33,
     "metadata": {},
     "output_type": "execute_result"
    }
   ],
   "source": [
    "data.columns"
   ]
  },
  {
   "cell_type": "markdown",
   "metadata": {},
   "source": [
    "<h3 style='color:blue' align='center'> 'Continous Variable' </h3>"
   ]
  },
  {
   "cell_type": "code",
   "execution_count": 34,
   "metadata": {},
   "outputs": [],
   "source": [
    "continous_var = ['temp', 'atemp', 'hum', 'windspeed']"
   ]
  },
  {
   "cell_type": "code",
   "execution_count": 35,
   "metadata": {
    "scrolled": true
   },
   "outputs": [
    {
     "data": {
      "image/png": "[encoded data removed]",
      "text/plain": [
       "<Figure size 432x288 with 1 Axes>"
      ]
     },
     "metadata": {
      "needs_background": "light"
     },
     "output_type": "display_data"
    },
    {
     "data": {
      "image/png": "[encoded data removed]",
      "text/plain": [
       "<Figure size 432x288 with 1 Axes>"
      ]
     },
     "metadata": {
      "needs_background": "light"
     },
     "output_type": "display_data"
    },
    {
     "data": {
      "image/png": "[encoded data removed]",
      "text/plain": [
       "<Figure size 432x288 with 1 Axes>"
      ]
     },
     "metadata": {
      "needs_background": "light"
     },
     "output_type": "display_data"
    },
    {
     "data": {
      "image/png": "[encoded data removed]",
      "text/plain": [
       "<Figure size 432x288 with 1 Axes>"
      ]
     },
     "metadata": {
      "needs_background": "light"
     },
     "output_type": "display_data"
    }
   ],
   "source": [
    "for feat in continous_var:\n",
    "    plt.scatter(data[feat] ,data['rentals'])\n",
    "    plt.xlabel(feat)\n",
    "    plt.ylabel('rentals')\n",
    "    plt.title(feat+' vs rentals')\n",
    "    plt.show()"
   ]
  },
  {
   "cell_type": "markdown",
   "metadata": {},
   "source": [
    "<h3 style='color:blue' align='center'> 'Discrete Variable' </h3>"
   ]
  },
  {
   "cell_type": "code",
   "execution_count": 36,
   "metadata": {},
   "outputs": [],
   "source": [
    "discrete_var = ['season', 'yr', 'mnth', 'holiday', 'weekday', 'workingday','weathersit']"
   ]
  },
  {
   "cell_type": "code",
   "execution_count": 37,
   "metadata": {},
   "outputs": [
    {
     "data": {
      "image/png": "[encoded data removed]",
      "text/plain": [
       "<Figure size 432x288 with 1 Axes>"
      ]
     },
     "metadata": {
      "needs_background": "light"
     },
     "output_type": "display_data"
    },
    {
     "data": {
      "image/png": "[encoded data removed]",
      "text/plain": [
       "<Figure size 432x288 with 1 Axes>"
      ]
     },
     "metadata": {
      "needs_background": "light"
     },
     "output_type": "display_data"
    },
    {
     "data": {
      "image/png": "[encoded data removed]",
      "text/plain": [
       "<Figure size 432x288 with 1 Axes>"
      ]
     },
     "metadata": {
      "needs_background": "light"
     },
     "output_type": "display_data"
    },
    {
     "data": {
      "image/png": "[encoded data removed]",
      "text/plain": [
       "<Figure size 432x288 with 1 Axes>"
      ]
     },
     "metadata": {
      "needs_background": "light"
     },
     "output_type": "display_data"
    },
    {
     "data": {
      "image/png": "[encoded data removed]",
      "text/plain": [
       "<Figure size 432x288 with 1 Axes>"
      ]
     },
     "metadata": {
      "needs_background": "light"
     },
     "output_type": "display_data"
    },
    {
     "data": {
      "image/png": "[encoded data removed]",
      "text/plain": [
       "<Figure size 432x288 with 1 Axes>"
      ]
     },
     "metadata": {
      "needs_background": "light"
     },
     "output_type": "display_data"
    },
    {
     "data": {
      "image/png": "[encoded data removed]",
      "text/plain": [
       "<Figure size 432x288 with 1 Axes>"
      ]
     },
     "metadata": {
      "needs_background": "light"
     },
     "output_type": "display_data"
    }
   ],
   "source": [
    "for feat in discrete_var:\n",
    "    \n",
    "    sns.boxplot(data[feat] ,data['rentals'])\n",
    "    plt.xlabel(feat)\n",
    "    plt.ylabel('rentals')\n",
    "    plt.title(feat+' vs rentals')\n",
    "    plt.show()"
   ]
  },
  {
   "cell_type": "markdown",
   "metadata": {},
   "source": [
    "## Feature Eng"
   ]
  },
  {
   "cell_type": "code",
   "execution_count": 38,
   "metadata": {},
   "outputs": [
    {
     "data": {
      "text/plain": [
       "<AxesSubplot:>"
      ]
     },
     "execution_count": 38,
     "metadata": {},
     "output_type": "execute_result"
    },
    {
     "data": {
      "image/png": "[encoded data removed]",
      "text/plain": [
       "<Figure size 720x720 with 2 Axes>"
      ]
     },
     "metadata": {
      "needs_background": "light"
     },
     "output_type": "display_data"
    }
   ],
   "source": [
    "plt.figure(figsize=(10,10))\n",
    "sns.heatmap(data.corr() ,annot=True ,cmap='inferno')"
   ]
  },
  {
   "cell_type": "code",
   "execution_count": 39,
   "metadata": {},
   "outputs": [],
   "source": [
    "X = data.drop(['rentals','mnth','atemp','hum'] ,axis=1)\n",
    "y = data['rentals']"
   ]
  },
  {
   "cell_type": "code",
   "execution_count": 40,
   "metadata": {},
   "outputs": [],
   "source": [
    "X_train,X_test,y_train,y_test = train_test_split(X,y,test_size=0.2,random_state=0)"
   ]
  },
  {
   "cell_type": "code",
   "execution_count": 41,
   "metadata": {},
   "outputs": [
    {
     "data": {
      "image/png": "[encoded data removed]",
      "text/plain": [
       "<Figure size 432x288 with 1 Axes>"
      ]
     },
     "metadata": {
      "needs_background": "light"
     },
     "output_type": "display_data"
    }
   ],
   "source": [
    "sns.distplot(y_train);"
   ]
  },
  {
   "cell_type": "code",
   "execution_count": null,
   "metadata": {},
   "outputs": [],
   "source": []
  },
  {
   "cell_type": "markdown",
   "metadata": {},
   "source": [
    "## Model Preperation"
   ]
  },
  {
   "cell_type": "markdown",
   "metadata": {},
   "source": [
    "<h3 style='color:red' align='center'> 'Linear Regression' </h3>"
   ]
  },
  {
   "cell_type": "code",
   "execution_count": 42,
   "metadata": {},
   "outputs": [],
   "source": [
    "lr = LinearRegression()"
   ]
  },
  {
   "cell_type": "code",
   "execution_count": 43,
   "metadata": {},
   "outputs": [
    {
     "data": {
      "text/plain": [
       "LinearRegression()"
      ]
     },
     "execution_count": 43,
     "metadata": {},
     "output_type": "execute_result"
    }
   ],
   "source": [
    "lr.fit(X_train ,y_train)"
   ]
  },
  {
   "cell_type": "code",
   "execution_count": 44,
   "metadata": {},
   "outputs": [],
   "source": [
    "lr_predict = lr.predict(X_test)"
   ]
  },
  {
   "cell_type": "code",
   "execution_count": 45,
   "metadata": {},
   "outputs": [
    {
     "data": {
      "text/plain": [
       "425.8931606874399"
      ]
     },
     "execution_count": 45,
     "metadata": {},
     "output_type": "execute_result"
    }
   ],
   "source": [
    "lr_rmse = np.sqrt(mse(y_test,lr_predict))\n",
    "lr_rmse"
   ]
  },
  {
   "cell_type": "code",
   "execution_count": 46,
   "metadata": {},
   "outputs": [
    {
     "data": {
      "text/plain": [
       "0.6567293557176964"
      ]
     },
     "execution_count": 46,
     "metadata": {},
     "output_type": "execute_result"
    }
   ],
   "source": [
    "lr_score = lr.score(X_test ,y_test)\n",
    "lr_score"
   ]
  },
  {
   "cell_type": "markdown",
   "metadata": {},
   "source": [
    "<h3 style='color:red' align='center'> 'Lasso Regression' </h3>"
   ]
  },
  {
   "cell_type": "code",
   "execution_count": 47,
   "metadata": {},
   "outputs": [],
   "source": [
    "lasso_lr = Lasso(max_iter=1e6 ,random_state=0)"
   ]
  },
  {
   "cell_type": "code",
   "execution_count": 48,
   "metadata": {},
   "outputs": [],
   "source": [
    "params = {\n",
    "            'alpha' : [0.0001 ,0.0005 ,0.001 ,0.005 ,0.01 ,0.1 ,1 ,10 ,20 ,100]\n",
    "         } "
   ]
  },
  {
   "cell_type": "code",
   "execution_count": 49,
   "metadata": {},
   "outputs": [],
   "source": [
    "lasso_lr = GridSearchCV(lasso_lr ,params ,cv=3)"
   ]
  },
  {
   "cell_type": "code",
   "execution_count": 50,
   "metadata": {},
   "outputs": [
    {
     "data": {
      "text/plain": [
       "GridSearchCV(cv=3, estimator=Lasso(max_iter=1000000.0, random_state=0),\n",
       "             param_grid={'alpha': [0.0001, 0.0005, 0.001, 0.005, 0.01, 0.1, 1,\n",
       "                                   10, 20, 100]})"
      ]
     },
     "execution_count": 50,
     "metadata": {},
     "output_type": "execute_result"
    }
   ],
   "source": [
    "lasso_lr.fit(X_train ,y_train)"
   ]
  },
  {
   "cell_type": "code",
   "execution_count": 51,
   "metadata": {},
   "outputs": [
    {
     "data": {
      "text/plain": [
       "{'alpha': 0.0001}"
      ]
     },
     "execution_count": 51,
     "metadata": {},
     "output_type": "execute_result"
    }
   ],
   "source": [
    "lasso_lr.best_params_"
   ]
  },
  {
   "cell_type": "code",
   "execution_count": 52,
   "metadata": {},
   "outputs": [],
   "source": [
    "lasso_lr = Lasso( alpha=0.0001 ,max_iter=1e6 )"
   ]
  },
  {
   "cell_type": "code",
   "execution_count": 53,
   "metadata": {},
   "outputs": [
    {
     "data": {
      "text/plain": [
       "Lasso(alpha=0.0001, max_iter=1000000.0)"
      ]
     },
     "execution_count": 53,
     "metadata": {},
     "output_type": "execute_result"
    }
   ],
   "source": [
    "lasso_lr.fit(X_train ,y_train)"
   ]
  },
  {
   "cell_type": "code",
   "execution_count": 54,
   "metadata": {},
   "outputs": [],
   "source": [
    "lasso_lr_pred = lasso_lr.predict(X_test)"
   ]
  },
  {
   "cell_type": "code",
   "execution_count": 55,
   "metadata": {},
   "outputs": [
    {
     "data": {
      "text/plain": [
       "425.8932001578472"
      ]
     },
     "execution_count": 55,
     "metadata": {},
     "output_type": "execute_result"
    }
   ],
   "source": [
    "lasso_lr_rmse = np.sqrt(mse(y_test,lasso_lr_pred))\n",
    "lasso_lr_rmse"
   ]
  },
  {
   "cell_type": "code",
   "execution_count": 56,
   "metadata": {},
   "outputs": [
    {
     "data": {
      "text/plain": [
       "0.6567292920912564"
      ]
     },
     "execution_count": 56,
     "metadata": {},
     "output_type": "execute_result"
    }
   ],
   "source": [
    "lasso_lr_score = lasso_lr.score(X_test ,y_test)\n",
    "lasso_lr_score"
   ]
  },
  {
   "cell_type": "markdown",
   "metadata": {},
   "source": [
    "<h3 style='color:red' align='center'> 'Ridge Regression' </h3>"
   ]
  },
  {
   "cell_type": "code",
   "execution_count": 57,
   "metadata": {},
   "outputs": [],
   "source": [
    "ridge_lr = Ridge(random_state=0)"
   ]
  },
  {
   "cell_type": "code",
   "execution_count": 58,
   "metadata": {},
   "outputs": [],
   "source": [
    "params = {\n",
    "            'alpha' : [0.0001 ,0.0005 ,0.001 ,0.005 ,0.01 ,0.1 ,1 ,10 ,20 ,100]\n",
    "         } "
   ]
  },
  {
   "cell_type": "code",
   "execution_count": 59,
   "metadata": {},
   "outputs": [],
   "source": [
    "ridge_lr = GridSearchCV(ridge_lr ,params ,cv=3)"
   ]
  },
  {
   "cell_type": "code",
   "execution_count": 60,
   "metadata": {},
   "outputs": [
    {
     "data": {
      "text/plain": [
       "GridSearchCV(cv=3, estimator=Ridge(random_state=0),\n",
       "             param_grid={'alpha': [0.0001, 0.0005, 0.001, 0.005, 0.01, 0.1, 1,\n",
       "                                   10, 20, 100]})"
      ]
     },
     "execution_count": 60,
     "metadata": {},
     "output_type": "execute_result"
    }
   ],
   "source": [
    "ridge_lr.fit(X_train ,y_train)"
   ]
  },
  {
   "cell_type": "code",
   "execution_count": 61,
   "metadata": {},
   "outputs": [
    {
     "data": {
      "text/plain": [
       "{'alpha': 0.1}"
      ]
     },
     "execution_count": 61,
     "metadata": {},
     "output_type": "execute_result"
    }
   ],
   "source": [
    "ridge_lr.best_params_"
   ]
  },
  {
   "cell_type": "code",
   "execution_count": 62,
   "metadata": {},
   "outputs": [],
   "source": [
    "ridge_lr = Ridge( alpha=0.1 )"
   ]
  },
  {
   "cell_type": "code",
   "execution_count": 63,
   "metadata": {},
   "outputs": [
    {
     "data": {
      "text/plain": [
       "Ridge(alpha=0.1)"
      ]
     },
     "execution_count": 63,
     "metadata": {},
     "output_type": "execute_result"
    }
   ],
   "source": [
    "ridge_lr.fit(X_train ,y_train)"
   ]
  },
  {
   "cell_type": "code",
   "execution_count": 64,
   "metadata": {},
   "outputs": [],
   "source": [
    "ridge_lr_pred = ridge_lr.predict(X_test)"
   ]
  },
  {
   "cell_type": "code",
   "execution_count": 65,
   "metadata": {},
   "outputs": [
    {
     "data": {
      "text/plain": [
       "425.9006741307129"
      ]
     },
     "execution_count": 65,
     "metadata": {},
     "output_type": "execute_result"
    }
   ],
   "source": [
    "ridge_lr_rmse = np.sqrt(mse(y_test,ridge_lr_pred))\n",
    "ridge_lr_rmse"
   ]
  },
  {
   "cell_type": "code",
   "execution_count": 66,
   "metadata": {},
   "outputs": [
    {
     "data": {
      "text/plain": [
       "0.6567172439136042"
      ]
     },
     "execution_count": 66,
     "metadata": {},
     "output_type": "execute_result"
    }
   ],
   "source": [
    "ridge_lr_score = ridge_lr.score(X_test ,y_test)\n",
    "ridge_lr_score"
   ]
  },
  {
   "cell_type": "markdown",
   "metadata": {},
   "source": [
    "<h3 style='color:red' align='center'> 'Decision Tree' </h3>"
   ]
  },
  {
   "cell_type": "code",
   "execution_count": 67,
   "metadata": {},
   "outputs": [],
   "source": [
    "dt = DecisionTreeRegressor(random_state=0)"
   ]
  },
  {
   "cell_type": "code",
   "execution_count": 68,
   "metadata": {},
   "outputs": [],
   "source": [
    "params = {\n",
    "            'max_depth'        : np.arange(1,50,2) ,\n",
    "            'min_samples_leaf' : np.arange(2,15)\n",
    "          }"
   ]
  },
  {
   "cell_type": "code",
   "execution_count": 69,
   "metadata": {},
   "outputs": [],
   "source": [
    "dt = GridSearchCV(dt,params,cv=3)"
   ]
  },
  {
   "cell_type": "code",
   "execution_count": 70,
   "metadata": {},
   "outputs": [
    {
     "data": {
      "text/plain": [
       "GridSearchCV(cv=3, estimator=DecisionTreeRegressor(random_state=0),\n",
       "             param_grid={'max_depth': array([ 1,  3,  5,  7,  9, 11, 13, 15, 17, 19, 21, 23, 25, 27, 29, 31, 33,\n",
       "       35, 37, 39, 41, 43, 45, 47, 49]),\n",
       "                         'min_samples_leaf': array([ 2,  3,  4,  5,  6,  7,  8,  9, 10, 11, 12, 13, 14])})"
      ]
     },
     "execution_count": 70,
     "metadata": {},
     "output_type": "execute_result"
    }
   ],
   "source": [
    "dt.fit(X_train ,y_train)"
   ]
  },
  {
   "cell_type": "code",
   "execution_count": 71,
   "metadata": {},
   "outputs": [
    {
     "data": {
      "text/plain": [
       "{'max_depth': 7, 'min_samples_leaf': 14}"
      ]
     },
     "execution_count": 71,
     "metadata": {},
     "output_type": "execute_result"
    }
   ],
   "source": [
    "dt.best_params_"
   ]
  },
  {
   "cell_type": "code",
   "execution_count": 72,
   "metadata": {},
   "outputs": [],
   "source": [
    "dt = DecisionTreeRegressor(\n",
    "                            max_depth = 7 , \n",
    "                            min_samples_leaf = 14\n",
    "                          )"
   ]
  },
  {
   "cell_type": "code",
   "execution_count": 73,
   "metadata": {},
   "outputs": [
    {
     "data": {
      "text/plain": [
       "DecisionTreeRegressor(max_depth=7, min_samples_leaf=14)"
      ]
     },
     "execution_count": 73,
     "metadata": {},
     "output_type": "execute_result"
    }
   ],
   "source": [
    "dt.fit(X_train ,y_train)"
   ]
  },
  {
   "cell_type": "code",
   "execution_count": 74,
   "metadata": {},
   "outputs": [],
   "source": [
    "dt_pred = dt.predict(X_test)"
   ]
  },
  {
   "cell_type": "code",
   "execution_count": 75,
   "metadata": {},
   "outputs": [],
   "source": [
    "# dt_msle = mean_squared_log_error(y_test,dt_pred)\n",
    "# dt_msle\n",
    "# dt_rmsle = np.sqrt(dt_msle)\n",
    "# dt_rmsle"
   ]
  },
  {
   "cell_type": "code",
   "execution_count": 76,
   "metadata": {},
   "outputs": [
    {
     "data": {
      "text/plain": [
       "343.992682750053"
      ]
     },
     "execution_count": 76,
     "metadata": {},
     "output_type": "execute_result"
    }
   ],
   "source": [
    "dt_rmse = np.sqrt(mse(y_test,dt_pred))\n",
    "dt_rmse"
   ]
  },
  {
   "cell_type": "code",
   "execution_count": 77,
   "metadata": {},
   "outputs": [
    {
     "data": {
      "text/plain": [
       "0.7760589333457389"
      ]
     },
     "execution_count": 77,
     "metadata": {},
     "output_type": "execute_result"
    }
   ],
   "source": [
    "dt_score = dt.score(X_test ,y_test)\n",
    "dt_score"
   ]
  },
  {
   "cell_type": "markdown",
   "metadata": {},
   "source": [
    "<h3 style='color:red' align='center'> 'Random Forest' </h3>"
   ]
  },
  {
   "cell_type": "code",
   "execution_count": 78,
   "metadata": {},
   "outputs": [],
   "source": [
    "rf = RandomForestRegressor(random_state=0)"
   ]
  },
  {
   "cell_type": "code",
   "execution_count": 79,
   "metadata": {},
   "outputs": [],
   "source": [
    "params = {\n",
    "           'n_estimators'     : np.arange(25,150,25)  ,\n",
    "           'max_depth'        : np.arange(1,11,2)     ,\n",
    "           'min_samples_leaf' : np.arange(2,15,3)\n",
    "         }"
   ]
  },
  {
   "cell_type": "code",
   "execution_count": 80,
   "metadata": {},
   "outputs": [],
   "source": [
    "rf = GridSearchCV(rf,params,cv=3)"
   ]
  },
  {
   "cell_type": "code",
   "execution_count": 81,
   "metadata": {},
   "outputs": [
    {
     "data": {
      "text/plain": [
       "GridSearchCV(cv=3, estimator=RandomForestRegressor(random_state=0),\n",
       "             param_grid={'max_depth': array([1, 3, 5, 7, 9]),\n",
       "                         'min_samples_leaf': array([ 2,  5,  8, 11, 14]),\n",
       "                         'n_estimators': array([ 25,  50,  75, 100, 125])})"
      ]
     },
     "execution_count": 81,
     "metadata": {},
     "output_type": "execute_result"
    }
   ],
   "source": [
    "rf.fit(X_train,y_train)"
   ]
  },
  {
   "cell_type": "code",
   "execution_count": 82,
   "metadata": {},
   "outputs": [
    {
     "data": {
      "text/plain": [
       "{'max_depth': 7, 'min_samples_leaf': 2, 'n_estimators': 100}"
      ]
     },
     "execution_count": 82,
     "metadata": {},
     "output_type": "execute_result"
    }
   ],
   "source": [
    "rf.best_params_"
   ]
  },
  {
   "cell_type": "code",
   "execution_count": 83,
   "metadata": {},
   "outputs": [],
   "source": [
    "rf = RandomForestRegressor(\n",
    "                            max_depth = 7 ,\n",
    "                            min_samples_leaf = 2 ,\n",
    "                            n_estimators = 100\n",
    "                          )"
   ]
  },
  {
   "cell_type": "code",
   "execution_count": 84,
   "metadata": {},
   "outputs": [
    {
     "data": {
      "text/plain": [
       "RandomForestRegressor(max_depth=7, min_samples_leaf=2)"
      ]
     },
     "execution_count": 84,
     "metadata": {},
     "output_type": "execute_result"
    }
   ],
   "source": [
    "rf.fit(X_train ,y_train)"
   ]
  },
  {
   "cell_type": "code",
   "execution_count": 85,
   "metadata": {},
   "outputs": [],
   "source": [
    "rf_pred = rf.predict(X_test)"
   ]
  },
  {
   "cell_type": "code",
   "execution_count": 86,
   "metadata": {},
   "outputs": [],
   "source": [
    "# rf_msle = mean_squared_log_error(y_test,rf_pred)\n",
    "# rf_msle\n",
    "# rf_rmsle = np.sqrt(rf_msle)\n",
    "# rf_rmsle"
   ]
  },
  {
   "cell_type": "code",
   "execution_count": 87,
   "metadata": {},
   "outputs": [
    {
     "data": {
      "text/plain": [
       "307.1412121171034"
      ]
     },
     "execution_count": 87,
     "metadata": {},
     "output_type": "execute_result"
    }
   ],
   "source": [
    "rf_rmse = np.sqrt(mse(y_test,rf_pred))\n",
    "rf_rmse"
   ]
  },
  {
   "cell_type": "code",
   "execution_count": 88,
   "metadata": {},
   "outputs": [
    {
     "data": {
      "text/plain": [
       "0.8214698700683046"
      ]
     },
     "execution_count": 88,
     "metadata": {},
     "output_type": "execute_result"
    }
   ],
   "source": [
    "rf_score = rf.score(X_test ,y_test)\n",
    "rf_score"
   ]
  },
  {
   "cell_type": "markdown",
   "metadata": {},
   "source": [
    "<h3 style='color:red' align='center'> 'Extra Trees' </h3>"
   ]
  },
  {
   "cell_type": "code",
   "execution_count": 89,
   "metadata": {},
   "outputs": [],
   "source": [
    "etr = ExtraTreesRegressor(n_estimators=30)"
   ]
  },
  {
   "cell_type": "code",
   "execution_count": 90,
   "metadata": {},
   "outputs": [
    {
     "data": {
      "text/plain": [
       "ExtraTreesRegressor(n_estimators=30)"
      ]
     },
     "execution_count": 90,
     "metadata": {},
     "output_type": "execute_result"
    }
   ],
   "source": [
    "etr.fit(X_train,y_train)"
   ]
  },
  {
   "cell_type": "code",
   "execution_count": 91,
   "metadata": {},
   "outputs": [],
   "source": [
    "etr_pred = etr.predict(X_test)"
   ]
  },
  {
   "cell_type": "code",
   "execution_count": 92,
   "metadata": {},
   "outputs": [
    {
     "data": {
      "text/plain": [
       "0.8262460406164541"
      ]
     },
     "execution_count": 92,
     "metadata": {},
     "output_type": "execute_result"
    }
   ],
   "source": [
    "etr_score = etr.score(X_test ,y_test)\n",
    "etr_score"
   ]
  },
  {
   "cell_type": "code",
   "execution_count": 93,
   "metadata": {},
   "outputs": [
    {
     "data": {
      "text/plain": [
       "303.0049254842648"
      ]
     },
     "execution_count": 93,
     "metadata": {},
     "output_type": "execute_result"
    }
   ],
   "source": [
    "etr_rmse = np.sqrt(mse(y_test ,etr_pred))\n",
    "etr_rmse"
   ]
  },
  {
   "cell_type": "markdown",
   "metadata": {},
   "source": [
    "<h3 style='color:red' align='center'> 'Cat Boost' </h3>"
   ]
  },
  {
   "cell_type": "code",
   "execution_count": 94,
   "metadata": {},
   "outputs": [],
   "source": [
    "cbr = CatBoostRegressor(\n",
    "                         n_estimators = 200,\n",
    "                         loss_function = 'MAE',\n",
    "                         eval_metric = 'RMSE'\n",
    "                        )"
   ]
  },
  {
   "cell_type": "code",
   "execution_count": 95,
   "metadata": {},
   "outputs": [
    {
     "name": "stdout",
     "output_type": "stream",
     "text": [
      "0:\tlearn: 672.6205247\ttotal: 136ms\tremaining: 27.1s\n",
      "1:\tlearn: 657.9064410\ttotal: 137ms\tremaining: 13.6s\n",
      "2:\tlearn: 642.6070117\ttotal: 139ms\tremaining: 9.11s\n",
      "3:\tlearn: 630.3502304\ttotal: 140ms\tremaining: 6.87s\n",
      "4:\tlearn: 616.3947533\ttotal: 142ms\tremaining: 5.53s\n",
      "5:\tlearn: 603.9195265\ttotal: 143ms\tremaining: 4.62s\n",
      "6:\tlearn: 590.1991030\ttotal: 144ms\tremaining: 3.97s\n",
      "7:\tlearn: 576.6997554\ttotal: 145ms\tremaining: 3.48s\n",
      "8:\tlearn: 563.8555227\ttotal: 146ms\tremaining: 3.11s\n",
      "9:\tlearn: 552.0939450\ttotal: 147ms\tremaining: 2.8s\n",
      "10:\tlearn: 540.3815880\ttotal: 149ms\tremaining: 2.55s\n",
      "11:\tlearn: 530.2737456\ttotal: 150ms\tremaining: 2.35s\n",
      "12:\tlearn: 522.8489060\ttotal: 151ms\tremaining: 2.17s\n",
      "13:\tlearn: 511.9389241\ttotal: 152ms\tremaining: 2.02s\n",
      "14:\tlearn: 501.0424175\ttotal: 153ms\tremaining: 1.89s\n",
      "15:\tlearn: 491.1528289\ttotal: 154ms\tremaining: 1.77s\n",
      "16:\tlearn: 483.7262175\ttotal: 155ms\tremaining: 1.67s\n",
      "17:\tlearn: 478.8660146\ttotal: 156ms\tremaining: 1.57s\n",
      "18:\tlearn: 470.5550579\ttotal: 157ms\tremaining: 1.49s\n",
      "19:\tlearn: 465.5666089\ttotal: 158ms\tremaining: 1.42s\n",
      "20:\tlearn: 458.2430052\ttotal: 159ms\tremaining: 1.35s\n",
      "21:\tlearn: 449.6778019\ttotal: 160ms\tremaining: 1.29s\n",
      "22:\tlearn: 442.4754624\ttotal: 161ms\tremaining: 1.24s\n",
      "23:\tlearn: 435.6072216\ttotal: 162ms\tremaining: 1.19s\n",
      "24:\tlearn: 427.9452684\ttotal: 163ms\tremaining: 1.14s\n",
      "25:\tlearn: 420.6646533\ttotal: 164ms\tremaining: 1.1s\n",
      "26:\tlearn: 413.1942091\ttotal: 165ms\tremaining: 1.06s\n",
      "27:\tlearn: 406.8610855\ttotal: 166ms\tremaining: 1.02s\n",
      "28:\tlearn: 401.3003038\ttotal: 167ms\tremaining: 985ms\n",
      "29:\tlearn: 394.9441766\ttotal: 168ms\tremaining: 953ms\n",
      "30:\tlearn: 388.8763268\ttotal: 169ms\tremaining: 922ms\n",
      "31:\tlearn: 384.0939766\ttotal: 170ms\tremaining: 893ms\n",
      "32:\tlearn: 378.4630687\ttotal: 171ms\tremaining: 866ms\n",
      "33:\tlearn: 374.5123495\ttotal: 172ms\tremaining: 841ms\n",
      "34:\tlearn: 371.0749048\ttotal: 173ms\tremaining: 816ms\n",
      "35:\tlearn: 366.7284309\ttotal: 174ms\tremaining: 793ms\n",
      "36:\tlearn: 361.6762542\ttotal: 175ms\tremaining: 772ms\n",
      "37:\tlearn: 356.9435521\ttotal: 176ms\tremaining: 751ms\n",
      "38:\tlearn: 353.4347359\ttotal: 177ms\tremaining: 732ms\n",
      "39:\tlearn: 349.8716857\ttotal: 178ms\tremaining: 713ms\n",
      "40:\tlearn: 346.4165337\ttotal: 179ms\tremaining: 695ms\n",
      "41:\tlearn: 341.9969941\ttotal: 180ms\tremaining: 678ms\n",
      "42:\tlearn: 340.1036238\ttotal: 181ms\tremaining: 660ms\n",
      "43:\tlearn: 336.3518654\ttotal: 182ms\tremaining: 645ms\n",
      "44:\tlearn: 333.1633465\ttotal: 183ms\tremaining: 629ms\n",
      "45:\tlearn: 329.8505099\ttotal: 184ms\tremaining: 615ms\n",
      "46:\tlearn: 327.2468696\ttotal: 185ms\tremaining: 601ms\n",
      "47:\tlearn: 323.8010791\ttotal: 186ms\tremaining: 588ms\n",
      "48:\tlearn: 320.5643219\ttotal: 187ms\tremaining: 575ms\n",
      "49:\tlearn: 318.0548609\ttotal: 188ms\tremaining: 563ms\n",
      "50:\tlearn: 316.5709759\ttotal: 188ms\tremaining: 550ms\n",
      "51:\tlearn: 313.6648691\ttotal: 189ms\tremaining: 539ms\n",
      "52:\tlearn: 311.1915007\ttotal: 190ms\tremaining: 528ms\n",
      "53:\tlearn: 308.6792712\ttotal: 191ms\tremaining: 518ms\n",
      "54:\tlearn: 306.1384761\ttotal: 192ms\tremaining: 507ms\n",
      "55:\tlearn: 303.3130824\ttotal: 194ms\tremaining: 498ms\n",
      "56:\tlearn: 301.0148156\ttotal: 195ms\tremaining: 488ms\n",
      "57:\tlearn: 299.8896619\ttotal: 195ms\tremaining: 478ms\n",
      "58:\tlearn: 298.3599705\ttotal: 196ms\tremaining: 469ms\n",
      "59:\tlearn: 296.7029620\ttotal: 197ms\tremaining: 460ms\n",
      "60:\tlearn: 295.5058490\ttotal: 199ms\tremaining: 453ms\n",
      "61:\tlearn: 293.5709671\ttotal: 200ms\tremaining: 444ms\n",
      "62:\tlearn: 291.6408379\ttotal: 201ms\tremaining: 437ms\n",
      "63:\tlearn: 290.2386829\ttotal: 202ms\tremaining: 429ms\n",
      "64:\tlearn: 288.4809088\ttotal: 203ms\tremaining: 421ms\n",
      "65:\tlearn: 287.5517930\ttotal: 204ms\tremaining: 414ms\n",
      "66:\tlearn: 285.7893404\ttotal: 205ms\tremaining: 407ms\n",
      "67:\tlearn: 284.5331422\ttotal: 206ms\tremaining: 399ms\n",
      "68:\tlearn: 283.3503869\ttotal: 207ms\tremaining: 392ms\n",
      "69:\tlearn: 282.0166173\ttotal: 208ms\tremaining: 386ms\n",
      "70:\tlearn: 280.7415153\ttotal: 209ms\tremaining: 379ms\n",
      "71:\tlearn: 279.3282991\ttotal: 210ms\tremaining: 373ms\n",
      "72:\tlearn: 278.6100390\ttotal: 211ms\tremaining: 367ms\n",
      "73:\tlearn: 277.5676455\ttotal: 212ms\tremaining: 361ms\n",
      "74:\tlearn: 276.1430393\ttotal: 213ms\tremaining: 355ms\n",
      "75:\tlearn: 275.4229311\ttotal: 214ms\tremaining: 349ms\n",
      "76:\tlearn: 273.9554773\ttotal: 215ms\tremaining: 343ms\n",
      "77:\tlearn: 272.7278038\ttotal: 216ms\tremaining: 338ms\n",
      "78:\tlearn: 271.1216805\ttotal: 217ms\tremaining: 333ms\n",
      "79:\tlearn: 270.1257113\ttotal: 218ms\tremaining: 327ms\n",
      "80:\tlearn: 269.0852859\ttotal: 219ms\tremaining: 322ms\n",
      "81:\tlearn: 267.9886361\ttotal: 220ms\tremaining: 317ms\n",
      "82:\tlearn: 266.8699707\ttotal: 221ms\tremaining: 312ms\n",
      "83:\tlearn: 266.1465797\ttotal: 222ms\tremaining: 307ms\n",
      "84:\tlearn: 265.1451657\ttotal: 223ms\tremaining: 302ms\n",
      "85:\tlearn: 264.3875147\ttotal: 224ms\tremaining: 298ms\n",
      "86:\tlearn: 263.9730929\ttotal: 225ms\tremaining: 292ms\n",
      "87:\tlearn: 263.1493973\ttotal: 226ms\tremaining: 288ms\n",
      "88:\tlearn: 262.3892124\ttotal: 227ms\tremaining: 283ms\n",
      "89:\tlearn: 261.5852493\ttotal: 228ms\tremaining: 279ms\n",
      "90:\tlearn: 261.1938857\ttotal: 229ms\tremaining: 274ms\n",
      "91:\tlearn: 260.4771213\ttotal: 230ms\tremaining: 270ms\n",
      "92:\tlearn: 259.7447957\ttotal: 231ms\tremaining: 266ms\n",
      "93:\tlearn: 259.2627318\ttotal: 232ms\tremaining: 262ms\n",
      "94:\tlearn: 258.7071120\ttotal: 233ms\tremaining: 258ms\n",
      "95:\tlearn: 257.6987756\ttotal: 234ms\tremaining: 254ms\n",
      "96:\tlearn: 256.9050563\ttotal: 235ms\tremaining: 250ms\n",
      "97:\tlearn: 256.3046039\ttotal: 236ms\tremaining: 246ms\n",
      "98:\tlearn: 256.2220485\ttotal: 237ms\tremaining: 241ms\n",
      "99:\tlearn: 255.6053321\ttotal: 238ms\tremaining: 238ms\n",
      "100:\tlearn: 254.9349745\ttotal: 239ms\tremaining: 234ms\n",
      "101:\tlearn: 254.4506661\ttotal: 240ms\tremaining: 230ms\n",
      "102:\tlearn: 253.8465516\ttotal: 241ms\tremaining: 227ms\n",
      "103:\tlearn: 253.1681127\ttotal: 242ms\tremaining: 223ms\n",
      "104:\tlearn: 252.9901552\ttotal: 243ms\tremaining: 220ms\n",
      "105:\tlearn: 252.5272073\ttotal: 243ms\tremaining: 216ms\n",
      "106:\tlearn: 252.0970405\ttotal: 244ms\tremaining: 212ms\n",
      "107:\tlearn: 251.4869731\ttotal: 245ms\tremaining: 209ms\n",
      "108:\tlearn: 250.8449560\ttotal: 246ms\tremaining: 206ms\n",
      "109:\tlearn: 250.0726228\ttotal: 247ms\tremaining: 202ms\n",
      "110:\tlearn: 249.1647073\ttotal: 249ms\tremaining: 199ms\n",
      "111:\tlearn: 248.7452671\ttotal: 250ms\tremaining: 196ms\n",
      "112:\tlearn: 248.5079795\ttotal: 251ms\tremaining: 193ms\n",
      "113:\tlearn: 248.2295679\ttotal: 252ms\tremaining: 190ms\n",
      "114:\tlearn: 247.1056025\ttotal: 253ms\tremaining: 187ms\n",
      "115:\tlearn: 246.3564848\ttotal: 254ms\tremaining: 184ms\n",
      "116:\tlearn: 245.7680091\ttotal: 255ms\tremaining: 181ms\n",
      "117:\tlearn: 245.0984373\ttotal: 256ms\tremaining: 178ms\n",
      "118:\tlearn: 244.7219383\ttotal: 257ms\tremaining: 175ms\n",
      "119:\tlearn: 244.1122816\ttotal: 258ms\tremaining: 172ms\n",
      "120:\tlearn: 243.7153632\ttotal: 259ms\tremaining: 169ms\n",
      "121:\tlearn: 243.5129540\ttotal: 260ms\tremaining: 166ms\n",
      "122:\tlearn: 243.3347022\ttotal: 261ms\tremaining: 163ms\n",
      "123:\tlearn: 242.7562264\ttotal: 262ms\tremaining: 160ms\n",
      "124:\tlearn: 242.3519833\ttotal: 263ms\tremaining: 158ms\n",
      "125:\tlearn: 241.6607149\ttotal: 264ms\tremaining: 155ms\n",
      "126:\tlearn: 241.4193045\ttotal: 265ms\tremaining: 152ms\n",
      "127:\tlearn: 241.2005172\ttotal: 266ms\tremaining: 149ms\n",
      "128:\tlearn: 240.7654430\ttotal: 267ms\tremaining: 147ms\n",
      "129:\tlearn: 240.4542811\ttotal: 268ms\tremaining: 144ms\n",
      "130:\tlearn: 240.2304646\ttotal: 269ms\tremaining: 142ms\n",
      "131:\tlearn: 239.9194259\ttotal: 270ms\tremaining: 139ms\n",
      "132:\tlearn: 239.5621093\ttotal: 270ms\tremaining: 136ms\n",
      "133:\tlearn: 239.2301099\ttotal: 272ms\tremaining: 134ms\n",
      "134:\tlearn: 238.8731694\ttotal: 273ms\tremaining: 131ms\n",
      "135:\tlearn: 238.6792318\ttotal: 273ms\tremaining: 129ms\n",
      "136:\tlearn: 238.5456340\ttotal: 274ms\tremaining: 126ms\n",
      "137:\tlearn: 238.1175396\ttotal: 275ms\tremaining: 124ms\n",
      "138:\tlearn: 237.6932659\ttotal: 276ms\tremaining: 121ms\n",
      "139:\tlearn: 237.5358786\ttotal: 277ms\tremaining: 119ms\n",
      "140:\tlearn: 237.2473024\ttotal: 278ms\tremaining: 116ms\n",
      "141:\tlearn: 236.9900121\ttotal: 279ms\tremaining: 114ms\n",
      "142:\tlearn: 236.7059651\ttotal: 280ms\tremaining: 112ms\n",
      "143:\tlearn: 236.3286488\ttotal: 281ms\tremaining: 109ms\n",
      "144:\tlearn: 235.5540288\ttotal: 282ms\tremaining: 107ms\n",
      "145:\tlearn: 235.1258238\ttotal: 283ms\tremaining: 105ms\n",
      "146:\tlearn: 234.9127478\ttotal: 284ms\tremaining: 103ms\n",
      "147:\tlearn: 234.7461262\ttotal: 286ms\tremaining: 100ms\n",
      "148:\tlearn: 234.4405587\ttotal: 287ms\tremaining: 98.3ms\n",
      "149:\tlearn: 234.0627815\ttotal: 288ms\tremaining: 96.1ms\n",
      "150:\tlearn: 233.9204854\ttotal: 289ms\tremaining: 93.9ms\n",
      "151:\tlearn: 233.3843341\ttotal: 290ms\tremaining: 91.7ms\n",
      "152:\tlearn: 232.6761472\ttotal: 292ms\tremaining: 89.6ms\n",
      "153:\tlearn: 232.2680475\ttotal: 292ms\tremaining: 87.3ms\n",
      "154:\tlearn: 232.2352378\ttotal: 293ms\tremaining: 85ms\n",
      "155:\tlearn: 232.1370112\ttotal: 294ms\tremaining: 82.9ms\n",
      "156:\tlearn: 231.8929506\ttotal: 295ms\tremaining: 80.9ms\n",
      "157:\tlearn: 231.3396735\ttotal: 296ms\tremaining: 78.8ms\n",
      "158:\tlearn: 231.0182531\ttotal: 298ms\tremaining: 76.7ms\n",
      "159:\tlearn: 230.8608674\ttotal: 298ms\tremaining: 74.6ms\n",
      "160:\tlearn: 230.4893215\ttotal: 300ms\tremaining: 72.6ms\n",
      "161:\tlearn: 230.2537906\ttotal: 301ms\tremaining: 70.6ms\n",
      "162:\tlearn: 229.8956309\ttotal: 302ms\tremaining: 68.6ms\n",
      "163:\tlearn: 229.0573985\ttotal: 304ms\tremaining: 66.6ms\n",
      "164:\tlearn: 228.3979789\ttotal: 305ms\tremaining: 64.7ms\n",
      "165:\tlearn: 228.2939820\ttotal: 306ms\tremaining: 62.7ms\n",
      "166:\tlearn: 227.6876254\ttotal: 308ms\tremaining: 60.8ms\n",
      "167:\tlearn: 227.4632558\ttotal: 309ms\tremaining: 58.8ms\n",
      "168:\tlearn: 227.1840344\ttotal: 310ms\tremaining: 56.9ms\n",
      "169:\tlearn: 227.1203706\ttotal: 311ms\tremaining: 54.9ms\n",
      "170:\tlearn: 226.8480743\ttotal: 312ms\tremaining: 53ms\n",
      "171:\tlearn: 226.7385568\ttotal: 314ms\tremaining: 51.1ms\n",
      "172:\tlearn: 226.6045537\ttotal: 315ms\tremaining: 49.1ms\n",
      "173:\tlearn: 226.5765711\ttotal: 315ms\tremaining: 47.1ms\n",
      "174:\tlearn: 226.4142098\ttotal: 316ms\tremaining: 45.2ms\n",
      "175:\tlearn: 226.2504572\ttotal: 318ms\tremaining: 43.3ms\n",
      "176:\tlearn: 225.9254565\ttotal: 319ms\tremaining: 41.4ms\n",
      "177:\tlearn: 225.7045493\ttotal: 320ms\tremaining: 39.6ms\n",
      "178:\tlearn: 225.2282997\ttotal: 321ms\tremaining: 37.7ms\n",
      "179:\tlearn: 224.9331756\ttotal: 323ms\tremaining: 35.9ms\n",
      "180:\tlearn: 224.5121146\ttotal: 324ms\tremaining: 34ms\n",
      "181:\tlearn: 224.1809421\ttotal: 325ms\tremaining: 32.2ms\n",
      "182:\tlearn: 223.9832727\ttotal: 326ms\tremaining: 30.3ms\n",
      "183:\tlearn: 223.7005229\ttotal: 327ms\tremaining: 28.5ms\n",
      "184:\tlearn: 223.2904914\ttotal: 328ms\tremaining: 26.6ms\n",
      "185:\tlearn: 222.8818807\ttotal: 329ms\tremaining: 24.8ms\n",
      "186:\tlearn: 222.4789584\ttotal: 331ms\tremaining: 23ms\n",
      "187:\tlearn: 222.1309969\ttotal: 332ms\tremaining: 21.2ms\n",
      "188:\tlearn: 221.7360505\ttotal: 333ms\tremaining: 19.4ms\n",
      "189:\tlearn: 221.6212547\ttotal: 334ms\tremaining: 17.6ms\n",
      "190:\tlearn: 221.4760349\ttotal: 335ms\tremaining: 15.8ms\n",
      "191:\tlearn: 221.4128712\ttotal: 336ms\tremaining: 14ms\n",
      "192:\tlearn: 221.2066773\ttotal: 337ms\tremaining: 12.2ms\n",
      "193:\tlearn: 220.8228491\ttotal: 338ms\tremaining: 10.5ms\n",
      "194:\tlearn: 220.4895759\ttotal: 339ms\tremaining: 8.7ms\n",
      "195:\tlearn: 220.4061586\ttotal: 340ms\tremaining: 6.94ms\n",
      "196:\tlearn: 220.0851446\ttotal: 341ms\tremaining: 5.2ms\n",
      "197:\tlearn: 219.4579595\ttotal: 342ms\tremaining: 3.46ms\n",
      "198:\tlearn: 218.7984042\ttotal: 343ms\tremaining: 1.72ms\n",
      "199:\tlearn: 218.6098203\ttotal: 344ms\tremaining: 0us\n"
     ]
    }
   ],
   "source": [
    "cbr.fit(X_train, y_train);"
   ]
  },
  {
   "cell_type": "code",
   "execution_count": 96,
   "metadata": {},
   "outputs": [],
   "source": [
    "cbr_pred = cbr.predict(X_test)"
   ]
  },
  {
   "cell_type": "code",
   "execution_count": 97,
   "metadata": {},
   "outputs": [
    {
     "data": {
      "text/plain": [
       "0.8611809397560048"
      ]
     },
     "execution_count": 97,
     "metadata": {},
     "output_type": "execute_result"
    }
   ],
   "source": [
    "cbr_score = cbr.score(X_test,y_test)\n",
    "cbr_score"
   ]
  },
  {
   "cell_type": "code",
   "execution_count": 98,
   "metadata": {},
   "outputs": [
    {
     "data": {
      "text/plain": [
       "270.83630702024385"
      ]
     },
     "execution_count": 98,
     "metadata": {},
     "output_type": "execute_result"
    }
   ],
   "source": [
    "cbr_rmse = np.sqrt(mse(y_test ,cbr_pred))\n",
    "cbr_rmse"
   ]
  },
  {
   "cell_type": "markdown",
   "metadata": {},
   "source": [
    "<h3 style='color:red' align='center'> 'XG Boost' </h3>"
   ]
  },
  {
   "cell_type": "code",
   "execution_count": 99,
   "metadata": {},
   "outputs": [],
   "source": [
    "xgb = XGBRegressor()"
   ]
  },
  {
   "cell_type": "code",
   "execution_count": 100,
   "metadata": {},
   "outputs": [
    {
     "data": {
      "text/plain": [
       "XGBRegressor(base_score=0.5, booster='gbtree', colsample_bylevel=1,\n",
       "             colsample_bynode=1, colsample_bytree=1, gamma=0, gpu_id=-1,\n",
       "             importance_type='gain', interaction_constraints='',\n",
       "             learning_rate=0.300000012, max_delta_step=0, max_depth=6,\n",
       "             min_child_weight=1, missing=nan, monotone_constraints='()',\n",
       "             n_estimators=100, n_jobs=8, num_parallel_tree=1, random_state=0,\n",
       "             reg_alpha=0, reg_lambda=1, scale_pos_weight=1, subsample=1,\n",
       "             tree_method='exact', validate_parameters=1, verbosity=None)"
      ]
     },
     "execution_count": 100,
     "metadata": {},
     "output_type": "execute_result"
    }
   ],
   "source": [
    "xgb.fit(X_train,y_train)"
   ]
  },
  {
   "cell_type": "code",
   "execution_count": 101,
   "metadata": {},
   "outputs": [],
   "source": [
    "xgb_pred = xgb.predict(X_test)"
   ]
  },
  {
   "cell_type": "code",
   "execution_count": 102,
   "metadata": {},
   "outputs": [
    {
     "data": {
      "text/plain": [
       "0.8272565257154403"
      ]
     },
     "execution_count": 102,
     "metadata": {},
     "output_type": "execute_result"
    }
   ],
   "source": [
    "xgb_score = xgb.score(X_test ,y_test)\n",
    "xgb_score"
   ]
  },
  {
   "cell_type": "code",
   "execution_count": 103,
   "metadata": {},
   "outputs": [
    {
     "data": {
      "text/plain": [
       "302.12256164917505"
      ]
     },
     "execution_count": 103,
     "metadata": {},
     "output_type": "execute_result"
    }
   ],
   "source": [
    "xgb_rmse = np.sqrt(mse(y_test ,xgb_pred))\n",
    "xgb_rmse"
   ]
  },
  {
   "cell_type": "markdown",
   "metadata": {},
   "source": [
    "<h3 style='color:red' align='center'> 'KNN' </h3>"
   ]
  },
  {
   "cell_type": "code",
   "execution_count": 104,
   "metadata": {},
   "outputs": [],
   "source": [
    "knn = KNeighborsRegressor(n_neighbors=10)"
   ]
  },
  {
   "cell_type": "code",
   "execution_count": 105,
   "metadata": {},
   "outputs": [
    {
     "data": {
      "text/plain": [
       "KNeighborsRegressor(n_neighbors=10)"
      ]
     },
     "execution_count": 105,
     "metadata": {},
     "output_type": "execute_result"
    }
   ],
   "source": [
    "knn.fit(X_train,y_train)"
   ]
  },
  {
   "cell_type": "code",
   "execution_count": 106,
   "metadata": {},
   "outputs": [],
   "source": [
    "knn_pred = knn.predict(X_test)"
   ]
  },
  {
   "cell_type": "code",
   "execution_count": 107,
   "metadata": {},
   "outputs": [
    {
     "data": {
      "text/plain": [
       "0.7531593429903556"
      ]
     },
     "execution_count": 107,
     "metadata": {},
     "output_type": "execute_result"
    }
   ],
   "source": [
    "knn_score = knn.score(X_test ,y_test)\n",
    "knn_score"
   ]
  },
  {
   "cell_type": "code",
   "execution_count": 108,
   "metadata": {},
   "outputs": [
    {
     "data": {
      "text/plain": [
       "361.15254545473636"
      ]
     },
     "execution_count": 108,
     "metadata": {},
     "output_type": "execute_result"
    }
   ],
   "source": [
    "knn_rmse = np.sqrt(mse(y_test ,knn_pred))\n",
    "knn_rmse"
   ]
  },
  {
   "cell_type": "markdown",
   "metadata": {},
   "source": [
    "## Conclusion"
   ]
  },
  {
   "cell_type": "code",
   "execution_count": 109,
   "metadata": {},
   "outputs": [
    {
     "data": {
      "text/html": [
       "<div>\n",
       "<style scoped>\n",
       "    .dataframe tbody tr th:only-of-type {\n",
       "        vertical-align: middle;\n",
       "    }\n",
       "\n",
       "    .dataframe tbody tr th {\n",
       "        vertical-align: top;\n",
       "    }\n",
       "\n",
       "    .dataframe thead th {\n",
       "        text-align: right;\n",
       "    }\n",
       "</style>\n",
       "<table border=\"1\" class=\"dataframe\">\n",
       "  <thead>\n",
       "    <tr style=\"text-align: right;\">\n",
       "      <th></th>\n",
       "      <th>RMSE</th>\n",
       "      <th>Score</th>\n",
       "    </tr>\n",
       "    <tr>\n",
       "      <th>Model</th>\n",
       "      <th></th>\n",
       "      <th></th>\n",
       "    </tr>\n",
       "  </thead>\n",
       "  <tbody>\n",
       "    <tr>\n",
       "      <th>Linear Regression</th>\n",
       "      <td>425.893161</td>\n",
       "      <td>0.656729</td>\n",
       "    </tr>\n",
       "    <tr>\n",
       "      <th>Lasso</th>\n",
       "      <td>425.893200</td>\n",
       "      <td>0.656729</td>\n",
       "    </tr>\n",
       "    <tr>\n",
       "      <th>Ridge</th>\n",
       "      <td>425.900674</td>\n",
       "      <td>0.656717</td>\n",
       "    </tr>\n",
       "    <tr>\n",
       "      <th>Decision Tree</th>\n",
       "      <td>343.992683</td>\n",
       "      <td>0.776059</td>\n",
       "    </tr>\n",
       "    <tr>\n",
       "      <th>Random Forest</th>\n",
       "      <td>307.141212</td>\n",
       "      <td>0.821470</td>\n",
       "    </tr>\n",
       "    <tr>\n",
       "      <th>Extra Tree</th>\n",
       "      <td>303.004925</td>\n",
       "      <td>0.826246</td>\n",
       "    </tr>\n",
       "    <tr>\n",
       "      <th>CatBoost</th>\n",
       "      <td>270.836307</td>\n",
       "      <td>0.861181</td>\n",
       "    </tr>\n",
       "    <tr>\n",
       "      <th>XG Boost</th>\n",
       "      <td>302.122562</td>\n",
       "      <td>0.827257</td>\n",
       "    </tr>\n",
       "    <tr>\n",
       "      <th>KNN</th>\n",
       "      <td>361.152545</td>\n",
       "      <td>0.753159</td>\n",
       "    </tr>\n",
       "  </tbody>\n",
       "</table>\n",
       "</div>"
      ],
      "text/plain": [
       "                         RMSE     Score\n",
       "Model                                  \n",
       "Linear Regression  425.893161  0.656729\n",
       "Lasso              425.893200  0.656729\n",
       "Ridge              425.900674  0.656717\n",
       "Decision Tree      343.992683  0.776059\n",
       "Random Forest      307.141212  0.821470\n",
       "Extra Tree         303.004925  0.826246\n",
       "CatBoost           270.836307  0.861181\n",
       "XG Boost           302.122562  0.827257\n",
       "KNN                361.152545  0.753159"
      ]
     },
     "execution_count": 109,
     "metadata": {},
     "output_type": "execute_result"
    }
   ],
   "source": [
    "model = pd.DataFrame({\n",
    "                       'Model' : ['Linear Regression' ,'Lasso' ,'Ridge' ,'Decision Tree' ,'Random Forest' ,'Extra Tree' ,'CatBoost' ,'XG Boost' ,'KNN'],\n",
    "                       'RMSE'  : [lr_rmse ,lasso_lr_rmse ,ridge_lr_rmse ,dt_rmse ,rf_rmse ,etr_rmse ,cbr_rmse ,xgb_rmse ,knn_rmse] ,\n",
    "                       'Score' : [lr_score ,lasso_lr_score ,ridge_lr_score ,dt_score ,rf_score ,etr_score ,cbr_score ,xgb_score ,knn_score]\n",
    "                     })\n",
    "\n",
    "model.set_index('Model')"
   ]
  },
  {
   "cell_type": "code",
   "execution_count": 110,
   "metadata": {},
   "outputs": [
    {
     "data": {
      "text/html": [
       "<div>\n",
       "<style scoped>\n",
       "    .dataframe tbody tr th:only-of-type {\n",
       "        vertical-align: middle;\n",
       "    }\n",
       "\n",
       "    .dataframe tbody tr th {\n",
       "        vertical-align: top;\n",
       "    }\n",
       "\n",
       "    .dataframe thead th {\n",
       "        text-align: right;\n",
       "    }\n",
       "</style>\n",
       "<table border=\"1\" class=\"dataframe\">\n",
       "  <thead>\n",
       "    <tr style=\"text-align: right;\">\n",
       "      <th></th>\n",
       "      <th>Model</th>\n",
       "      <th>RMSE</th>\n",
       "      <th>Score</th>\n",
       "    </tr>\n",
       "  </thead>\n",
       "  <tbody>\n",
       "    <tr>\n",
       "      <th>6</th>\n",
       "      <td>CatBoost</td>\n",
       "      <td>270.836307</td>\n",
       "      <td>0.861181</td>\n",
       "    </tr>\n",
       "    <tr>\n",
       "      <th>7</th>\n",
       "      <td>XG Boost</td>\n",
       "      <td>302.122562</td>\n",
       "      <td>0.827257</td>\n",
       "    </tr>\n",
       "    <tr>\n",
       "      <th>5</th>\n",
       "      <td>Extra Tree</td>\n",
       "      <td>303.004925</td>\n",
       "      <td>0.826246</td>\n",
       "    </tr>\n",
       "    <tr>\n",
       "      <th>4</th>\n",
       "      <td>Random Forest</td>\n",
       "      <td>307.141212</td>\n",
       "      <td>0.821470</td>\n",
       "    </tr>\n",
       "    <tr>\n",
       "      <th>3</th>\n",
       "      <td>Decision Tree</td>\n",
       "      <td>343.992683</td>\n",
       "      <td>0.776059</td>\n",
       "    </tr>\n",
       "    <tr>\n",
       "      <th>8</th>\n",
       "      <td>KNN</td>\n",
       "      <td>361.152545</td>\n",
       "      <td>0.753159</td>\n",
       "    </tr>\n",
       "    <tr>\n",
       "      <th>0</th>\n",
       "      <td>Linear Regression</td>\n",
       "      <td>425.893161</td>\n",
       "      <td>0.656729</td>\n",
       "    </tr>\n",
       "    <tr>\n",
       "      <th>1</th>\n",
       "      <td>Lasso</td>\n",
       "      <td>425.893200</td>\n",
       "      <td>0.656729</td>\n",
       "    </tr>\n",
       "    <tr>\n",
       "      <th>2</th>\n",
       "      <td>Ridge</td>\n",
       "      <td>425.900674</td>\n",
       "      <td>0.656717</td>\n",
       "    </tr>\n",
       "  </tbody>\n",
       "</table>\n",
       "</div>"
      ],
      "text/plain": [
       "               Model        RMSE     Score\n",
       "6           CatBoost  270.836307  0.861181\n",
       "7           XG Boost  302.122562  0.827257\n",
       "5         Extra Tree  303.004925  0.826246\n",
       "4      Random Forest  307.141212  0.821470\n",
       "3      Decision Tree  343.992683  0.776059\n",
       "8                KNN  361.152545  0.753159\n",
       "0  Linear Regression  425.893161  0.656729\n",
       "1              Lasso  425.893200  0.656729\n",
       "2              Ridge  425.900674  0.656717"
      ]
     },
     "execution_count": 110,
     "metadata": {},
     "output_type": "execute_result"
    }
   ],
   "source": [
    "model = model.sort_values(by='Score' ,ascending=False)\n",
    "model"
   ]
  },
  {
   "cell_type": "code",
   "execution_count": null,
   "metadata": {},
   "outputs": [],
   "source": []
  }
 ],
 "metadata": {
  "kernelspec": {
   "display_name": "Python 3",
   "language": "python",
   "name": "python3"
  },
  "language_info": {
   "codemirror_mode": {
    "name": "ipython",
    "version": 3
   },
   "file_extension": ".py",
   "mimetype": "text/x-python",
   "name": "python",
   "nbconvert_exporter": "python",
   "pygments_lexer": "ipython3",
   "version": "3.8.5"
  }
 },
 "nbformat": 4,
 "nbformat_minor": 4
}
