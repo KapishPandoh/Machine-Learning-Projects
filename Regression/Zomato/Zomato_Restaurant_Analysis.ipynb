{
 "cells": [
  {
   "cell_type": "markdown",
   "metadata": {},
   "source": [
    "<center><h1> Zomato Restaurant Analysis </h1></center>"
   ]
  },
  {
   "cell_type": "markdown",
   "metadata": {},
   "source": [
    "<img src='zomato.jpg' width='700' height='600' />"
   ]
  },
  {
   "cell_type": "markdown",
   "metadata": {},
   "source": [
    "**The basic idea of analyzing the Zomato dataset is to get a fair idea about the factors affecting the aggregate rating of each restaurant**"
   ]
  },
  {
   "cell_type": "markdown",
   "metadata": {},
   "source": [
    "### Data Description :\n",
    " - **url**     : contains the url of the restaurant in the zomato website\n",
    " - **address** : contains the address of the restaurant in Bengaluru\n",
    " - **name**    : contains the name of the restaurant\n",
    " - **online_order** : whether online ordering is available in the restaurant or not\n",
    " - **book_table** : table book option available or not\n",
    " - **rate** : contains the overall rating of the restaurant out of 5\n",
    " - **votes** : contains total number of rating for the restaurant as of the above mentioned date\n",
    " - **phone** : contains the phone number of the restaurant\n",
    " - **location** : contains the neighborhood in which the restaurant is located\n",
    " - **rest_type** : restaurant type\n",
    " - **dish_liked** : dishes people liked in the restaurant\n",
    " - **cuisines** : food styles, separated by comma\n",
    " - **approx_cost(for two people)** : contains the approximate cost for meal for two people\n",
    " - **reviews_list** : list of tuples containing reviews for the restaurant, each tuple consists of two values, rating and review by the customer\n",
    " - **menu_item**: contains list of menus available in the restaurant\n",
    " - **listed_in(type)** : type of meal\n",
    " - **listed_in(city)** : contains the neighborhood in which the restaurant is listed"
   ]
  },
  {
   "cell_type": "markdown",
   "metadata": {},
   "source": [
    "##  Import Libraries"
   ]
  },
  {
   "cell_type": "code",
   "execution_count": 1,
   "metadata": {},
   "outputs": [],
   "source": [
    "import pandas as pd\n",
    "import numpy as np"
   ]
  },
  {
   "cell_type": "code",
   "execution_count": 2,
   "metadata": {},
   "outputs": [],
   "source": [
    "import seaborn as sns\n",
    "sns.set_style('whitegrid')\n",
    "\n",
    "import matplotlib.pyplot as plt\n",
    "%matplotlib inline\n",
    "\n",
    "import dexplot"
   ]
  },
  {
   "cell_type": "code",
   "execution_count": 3,
   "metadata": {},
   "outputs": [],
   "source": [
    "from sklearn.preprocessing import LabelEncoder\n",
    "from sklearn.preprocessing import StandardScaler"
   ]
  },
  {
   "cell_type": "code",
   "execution_count": 4,
   "metadata": {},
   "outputs": [],
   "source": [
    "from sklearn.model_selection import train_test_split"
   ]
  },
  {
   "cell_type": "code",
   "execution_count": 5,
   "metadata": {},
   "outputs": [],
   "source": [
    "from sklearn.linear_model import LinearRegression\n",
    "from sklearn.ensemble import RandomForestRegressor\n",
    "from sklearn.tree import DecisionTreeRegressor\n",
    "from catboost import CatBoostRegressor"
   ]
  },
  {
   "cell_type": "code",
   "execution_count": 6,
   "metadata": {},
   "outputs": [],
   "source": [
    "from sklearn.metrics import r2_score"
   ]
  },
  {
   "cell_type": "code",
   "execution_count": 7,
   "metadata": {},
   "outputs": [],
   "source": [
    "import warnings\n",
    "warnings.filterwarnings('ignore')"
   ]
  },
  {
   "cell_type": "markdown",
   "metadata": {},
   "source": [
    "## Load Dataset"
   ]
  },
  {
   "cell_type": "code",
   "execution_count": 8,
   "metadata": {
    "scrolled": true
   },
   "outputs": [
    {
     "data": {
      "text/html": [
       "<div>\n",
       "<style scoped>\n",
       "    .dataframe tbody tr th:only-of-type {\n",
       "        vertical-align: middle;\n",
       "    }\n",
       "\n",
       "    .dataframe tbody tr th {\n",
       "        vertical-align: top;\n",
       "    }\n",
       "\n",
       "    .dataframe thead th {\n",
       "        text-align: right;\n",
       "    }\n",
       "</style>\n",
       "<table border=\"1\" class=\"dataframe\">\n",
       "  <thead>\n",
       "    <tr style=\"text-align: right;\">\n",
       "      <th></th>\n",
       "      <th>url</th>\n",
       "      <th>address</th>\n",
       "      <th>name</th>\n",
       "      <th>online_order</th>\n",
       "      <th>book_table</th>\n",
       "      <th>rate</th>\n",
       "      <th>votes</th>\n",
       "      <th>phone</th>\n",
       "      <th>location</th>\n",
       "      <th>rest_type</th>\n",
       "      <th>dish_liked</th>\n",
       "      <th>cuisines</th>\n",
       "      <th>approx_cost(for two people)</th>\n",
       "      <th>reviews_list</th>\n",
       "      <th>menu_item</th>\n",
       "      <th>listed_in(type)</th>\n",
       "      <th>listed_in(city)</th>\n",
       "    </tr>\n",
       "  </thead>\n",
       "  <tbody>\n",
       "    <tr>\n",
       "      <th>0</th>\n",
       "      <td>https://www.zomato.com/bangalore/jalsa-banasha...</td>\n",
       "      <td>942, 21st Main Road, 2nd Stage, Banashankari, ...</td>\n",
       "      <td>Jalsa</td>\n",
       "      <td>Yes</td>\n",
       "      <td>Yes</td>\n",
       "      <td>4.1/5</td>\n",
       "      <td>775</td>\n",
       "      <td>080 42297555\\r\\n+91 9743772233</td>\n",
       "      <td>Banashankari</td>\n",
       "      <td>Casual Dining</td>\n",
       "      <td>Pasta, Lunch Buffet, Masala Papad, Paneer Laja...</td>\n",
       "      <td>North Indian, Mughlai, Chinese</td>\n",
       "      <td>800</td>\n",
       "      <td>[('Rated 4.0', 'RATED\\n  A beautiful place to ...</td>\n",
       "      <td>[]</td>\n",
       "      <td>Buffet</td>\n",
       "      <td>Banashankari</td>\n",
       "    </tr>\n",
       "    <tr>\n",
       "      <th>1</th>\n",
       "      <td>https://www.zomato.com/bangalore/spice-elephan...</td>\n",
       "      <td>2nd Floor, 80 Feet Road, Near Big Bazaar, 6th ...</td>\n",
       "      <td>Spice Elephant</td>\n",
       "      <td>Yes</td>\n",
       "      <td>No</td>\n",
       "      <td>4.1/5</td>\n",
       "      <td>787</td>\n",
       "      <td>080 41714161</td>\n",
       "      <td>Banashankari</td>\n",
       "      <td>Casual Dining</td>\n",
       "      <td>Momos, Lunch Buffet, Chocolate Nirvana, Thai G...</td>\n",
       "      <td>Chinese, North Indian, Thai</td>\n",
       "      <td>800</td>\n",
       "      <td>[('Rated 4.0', 'RATED\\n  Had been here for din...</td>\n",
       "      <td>[]</td>\n",
       "      <td>Buffet</td>\n",
       "      <td>Banashankari</td>\n",
       "    </tr>\n",
       "    <tr>\n",
       "      <th>2</th>\n",
       "      <td>https://www.zomato.com/SanchurroBangalore?cont...</td>\n",
       "      <td>1112, Next to KIMS Medical College, 17th Cross...</td>\n",
       "      <td>San Churro Cafe</td>\n",
       "      <td>Yes</td>\n",
       "      <td>No</td>\n",
       "      <td>3.8/5</td>\n",
       "      <td>918</td>\n",
       "      <td>+91 9663487993</td>\n",
       "      <td>Banashankari</td>\n",
       "      <td>Cafe, Casual Dining</td>\n",
       "      <td>Churros, Cannelloni, Minestrone Soup, Hot Choc...</td>\n",
       "      <td>Cafe, Mexican, Italian</td>\n",
       "      <td>800</td>\n",
       "      <td>[('Rated 3.0', \"RATED\\n  Ambience is not that ...</td>\n",
       "      <td>[]</td>\n",
       "      <td>Buffet</td>\n",
       "      <td>Banashankari</td>\n",
       "    </tr>\n",
       "    <tr>\n",
       "      <th>3</th>\n",
       "      <td>https://www.zomato.com/bangalore/addhuri-udupi...</td>\n",
       "      <td>1st Floor, Annakuteera, 3rd Stage, Banashankar...</td>\n",
       "      <td>Addhuri Udupi Bhojana</td>\n",
       "      <td>No</td>\n",
       "      <td>No</td>\n",
       "      <td>3.7/5</td>\n",
       "      <td>88</td>\n",
       "      <td>+91 9620009302</td>\n",
       "      <td>Banashankari</td>\n",
       "      <td>Quick Bites</td>\n",
       "      <td>Masala Dosa</td>\n",
       "      <td>South Indian, North Indian</td>\n",
       "      <td>300</td>\n",
       "      <td>[('Rated 4.0', \"RATED\\n  Great food and proper...</td>\n",
       "      <td>[]</td>\n",
       "      <td>Buffet</td>\n",
       "      <td>Banashankari</td>\n",
       "    </tr>\n",
       "    <tr>\n",
       "      <th>4</th>\n",
       "      <td>https://www.zomato.com/bangalore/grand-village...</td>\n",
       "      <td>10, 3rd Floor, Lakshmi Associates, Gandhi Baza...</td>\n",
       "      <td>Grand Village</td>\n",
       "      <td>No</td>\n",
       "      <td>No</td>\n",
       "      <td>3.8/5</td>\n",
       "      <td>166</td>\n",
       "      <td>+91 8026612447\\r\\n+91 9901210005</td>\n",
       "      <td>Basavanagudi</td>\n",
       "      <td>Casual Dining</td>\n",
       "      <td>Panipuri, Gol Gappe</td>\n",
       "      <td>North Indian, Rajasthani</td>\n",
       "      <td>600</td>\n",
       "      <td>[('Rated 4.0', 'RATED\\n  Very good restaurant ...</td>\n",
       "      <td>[]</td>\n",
       "      <td>Buffet</td>\n",
       "      <td>Banashankari</td>\n",
       "    </tr>\n",
       "  </tbody>\n",
       "</table>\n",
       "</div>"
      ],
      "text/plain": [
       "                                                 url  \\\n",
       "0  https://www.zomato.com/bangalore/jalsa-banasha...   \n",
       "1  https://www.zomato.com/bangalore/spice-elephan...   \n",
       "2  https://www.zomato.com/SanchurroBangalore?cont...   \n",
       "3  https://www.zomato.com/bangalore/addhuri-udupi...   \n",
       "4  https://www.zomato.com/bangalore/grand-village...   \n",
       "\n",
       "                                             address                   name  \\\n",
       "0  942, 21st Main Road, 2nd Stage, Banashankari, ...                  Jalsa   \n",
       "1  2nd Floor, 80 Feet Road, Near Big Bazaar, 6th ...         Spice Elephant   \n",
       "2  1112, Next to KIMS Medical College, 17th Cross...        San Churro Cafe   \n",
       "3  1st Floor, Annakuteera, 3rd Stage, Banashankar...  Addhuri Udupi Bhojana   \n",
       "4  10, 3rd Floor, Lakshmi Associates, Gandhi Baza...          Grand Village   \n",
       "\n",
       "  online_order book_table   rate  votes                             phone  \\\n",
       "0          Yes        Yes  4.1/5    775    080 42297555\\r\\n+91 9743772233   \n",
       "1          Yes         No  4.1/5    787                      080 41714161   \n",
       "2          Yes         No  3.8/5    918                    +91 9663487993   \n",
       "3           No         No  3.7/5     88                    +91 9620009302   \n",
       "4           No         No  3.8/5    166  +91 8026612447\\r\\n+91 9901210005   \n",
       "\n",
       "       location            rest_type  \\\n",
       "0  Banashankari        Casual Dining   \n",
       "1  Banashankari        Casual Dining   \n",
       "2  Banashankari  Cafe, Casual Dining   \n",
       "3  Banashankari          Quick Bites   \n",
       "4  Basavanagudi        Casual Dining   \n",
       "\n",
       "                                          dish_liked  \\\n",
       "0  Pasta, Lunch Buffet, Masala Papad, Paneer Laja...   \n",
       "1  Momos, Lunch Buffet, Chocolate Nirvana, Thai G...   \n",
       "2  Churros, Cannelloni, Minestrone Soup, Hot Choc...   \n",
       "3                                        Masala Dosa   \n",
       "4                                Panipuri, Gol Gappe   \n",
       "\n",
       "                         cuisines approx_cost(for two people)  \\\n",
       "0  North Indian, Mughlai, Chinese                         800   \n",
       "1     Chinese, North Indian, Thai                         800   \n",
       "2          Cafe, Mexican, Italian                         800   \n",
       "3      South Indian, North Indian                         300   \n",
       "4        North Indian, Rajasthani                         600   \n",
       "\n",
       "                                        reviews_list menu_item  \\\n",
       "0  [('Rated 4.0', 'RATED\\n  A beautiful place to ...        []   \n",
       "1  [('Rated 4.0', 'RATED\\n  Had been here for din...        []   \n",
       "2  [('Rated 3.0', \"RATED\\n  Ambience is not that ...        []   \n",
       "3  [('Rated 4.0', \"RATED\\n  Great food and proper...        []   \n",
       "4  [('Rated 4.0', 'RATED\\n  Very good restaurant ...        []   \n",
       "\n",
       "  listed_in(type) listed_in(city)  \n",
       "0          Buffet    Banashankari  \n",
       "1          Buffet    Banashankari  \n",
       "2          Buffet    Banashankari  \n",
       "3          Buffet    Banashankari  \n",
       "4          Buffet    Banashankari  "
      ]
     },
     "execution_count": 8,
     "metadata": {},
     "output_type": "execute_result"
    }
   ],
   "source": [
    "data = pd.read_csv('zomato.csv')\n",
    "data.head()"
   ]
  },
  {
   "cell_type": "code",
   "execution_count": 9,
   "metadata": {},
   "outputs": [
    {
     "data": {
      "text/plain": [
       "(51717, 17)"
      ]
     },
     "execution_count": 9,
     "metadata": {},
     "output_type": "execute_result"
    }
   ],
   "source": [
    "data.shape"
   ]
  },
  {
   "cell_type": "code",
   "execution_count": 10,
   "metadata": {},
   "outputs": [
    {
     "name": "stdout",
     "output_type": "stream",
     "text": [
      "<class 'pandas.core.frame.DataFrame'>\n",
      "RangeIndex: 51717 entries, 0 to 51716\n",
      "Data columns (total 17 columns):\n",
      " #   Column                       Non-Null Count  Dtype \n",
      "---  ------                       --------------  ----- \n",
      " 0   url                          51717 non-null  object\n",
      " 1   address                      51717 non-null  object\n",
      " 2   name                         51717 non-null  object\n",
      " 3   online_order                 51717 non-null  object\n",
      " 4   book_table                   51717 non-null  object\n",
      " 5   rate                         43942 non-null  object\n",
      " 6   votes                        51717 non-null  int64 \n",
      " 7   phone                        50509 non-null  object\n",
      " 8   location                     51696 non-null  object\n",
      " 9   rest_type                    51490 non-null  object\n",
      " 10  dish_liked                   23639 non-null  object\n",
      " 11  cuisines                     51672 non-null  object\n",
      " 12  approx_cost(for two people)  51371 non-null  object\n",
      " 13  reviews_list                 51717 non-null  object\n",
      " 14  menu_item                    51717 non-null  object\n",
      " 15  listed_in(type)              51717 non-null  object\n",
      " 16  listed_in(city)              51717 non-null  object\n",
      "dtypes: int64(1), object(16)\n",
      "memory usage: 6.7+ MB\n"
     ]
    }
   ],
   "source": [
    "data.info()"
   ]
  },
  {
   "cell_type": "code",
   "execution_count": 11,
   "metadata": {},
   "outputs": [
    {
     "data": {
      "text/html": [
       "<div>\n",
       "<style scoped>\n",
       "    .dataframe tbody tr th:only-of-type {\n",
       "        vertical-align: middle;\n",
       "    }\n",
       "\n",
       "    .dataframe tbody tr th {\n",
       "        vertical-align: top;\n",
       "    }\n",
       "\n",
       "    .dataframe thead th {\n",
       "        text-align: right;\n",
       "    }\n",
       "</style>\n",
       "<table border=\"1\" class=\"dataframe\">\n",
       "  <thead>\n",
       "    <tr style=\"text-align: right;\">\n",
       "      <th></th>\n",
       "      <th>count</th>\n",
       "      <th>mean</th>\n",
       "      <th>std</th>\n",
       "      <th>min</th>\n",
       "      <th>25%</th>\n",
       "      <th>50%</th>\n",
       "      <th>75%</th>\n",
       "      <th>max</th>\n",
       "    </tr>\n",
       "  </thead>\n",
       "  <tbody>\n",
       "    <tr>\n",
       "      <th>votes</th>\n",
       "      <td>51717.0</td>\n",
       "      <td>283.697527</td>\n",
       "      <td>803.838853</td>\n",
       "      <td>0.0</td>\n",
       "      <td>7.0</td>\n",
       "      <td>41.0</td>\n",
       "      <td>198.0</td>\n",
       "      <td>16832.0</td>\n",
       "    </tr>\n",
       "  </tbody>\n",
       "</table>\n",
       "</div>"
      ],
      "text/plain": [
       "         count        mean         std  min  25%   50%    75%      max\n",
       "votes  51717.0  283.697527  803.838853  0.0  7.0  41.0  198.0  16832.0"
      ]
     },
     "execution_count": 11,
     "metadata": {},
     "output_type": "execute_result"
    }
   ],
   "source": [
    "data.describe().T"
   ]
  },
  {
   "cell_type": "code",
   "execution_count": 12,
   "metadata": {},
   "outputs": [
    {
     "data": {
      "text/html": [
       "<div>\n",
       "<style scoped>\n",
       "    .dataframe tbody tr th:only-of-type {\n",
       "        vertical-align: middle;\n",
       "    }\n",
       "\n",
       "    .dataframe tbody tr th {\n",
       "        vertical-align: top;\n",
       "    }\n",
       "\n",
       "    .dataframe thead th {\n",
       "        text-align: right;\n",
       "    }\n",
       "</style>\n",
       "<table border=\"1\" class=\"dataframe\">\n",
       "  <thead>\n",
       "    <tr style=\"text-align: right;\">\n",
       "      <th></th>\n",
       "      <th>count</th>\n",
       "      <th>unique</th>\n",
       "      <th>top</th>\n",
       "      <th>freq</th>\n",
       "    </tr>\n",
       "  </thead>\n",
       "  <tbody>\n",
       "    <tr>\n",
       "      <th>url</th>\n",
       "      <td>51717</td>\n",
       "      <td>51717</td>\n",
       "      <td>https://www.zomato.com/bangalore/the-konkan-se...</td>\n",
       "      <td>1</td>\n",
       "    </tr>\n",
       "    <tr>\n",
       "      <th>address</th>\n",
       "      <td>51717</td>\n",
       "      <td>11495</td>\n",
       "      <td>Delivery Only</td>\n",
       "      <td>128</td>\n",
       "    </tr>\n",
       "    <tr>\n",
       "      <th>name</th>\n",
       "      <td>51717</td>\n",
       "      <td>8792</td>\n",
       "      <td>Cafe Coffee Day</td>\n",
       "      <td>96</td>\n",
       "    </tr>\n",
       "    <tr>\n",
       "      <th>online_order</th>\n",
       "      <td>51717</td>\n",
       "      <td>2</td>\n",
       "      <td>Yes</td>\n",
       "      <td>30444</td>\n",
       "    </tr>\n",
       "    <tr>\n",
       "      <th>book_table</th>\n",
       "      <td>51717</td>\n",
       "      <td>2</td>\n",
       "      <td>No</td>\n",
       "      <td>45268</td>\n",
       "    </tr>\n",
       "    <tr>\n",
       "      <th>rate</th>\n",
       "      <td>43942</td>\n",
       "      <td>64</td>\n",
       "      <td>NEW</td>\n",
       "      <td>2208</td>\n",
       "    </tr>\n",
       "    <tr>\n",
       "      <th>phone</th>\n",
       "      <td>50509</td>\n",
       "      <td>14926</td>\n",
       "      <td>080 43334321</td>\n",
       "      <td>216</td>\n",
       "    </tr>\n",
       "    <tr>\n",
       "      <th>location</th>\n",
       "      <td>51696</td>\n",
       "      <td>93</td>\n",
       "      <td>BTM</td>\n",
       "      <td>5124</td>\n",
       "    </tr>\n",
       "    <tr>\n",
       "      <th>rest_type</th>\n",
       "      <td>51490</td>\n",
       "      <td>93</td>\n",
       "      <td>Quick Bites</td>\n",
       "      <td>19132</td>\n",
       "    </tr>\n",
       "    <tr>\n",
       "      <th>dish_liked</th>\n",
       "      <td>23639</td>\n",
       "      <td>5271</td>\n",
       "      <td>Biryani</td>\n",
       "      <td>182</td>\n",
       "    </tr>\n",
       "    <tr>\n",
       "      <th>cuisines</th>\n",
       "      <td>51672</td>\n",
       "      <td>2723</td>\n",
       "      <td>North Indian</td>\n",
       "      <td>2913</td>\n",
       "    </tr>\n",
       "    <tr>\n",
       "      <th>approx_cost(for two people)</th>\n",
       "      <td>51371</td>\n",
       "      <td>70</td>\n",
       "      <td>300</td>\n",
       "      <td>7576</td>\n",
       "    </tr>\n",
       "    <tr>\n",
       "      <th>reviews_list</th>\n",
       "      <td>51717</td>\n",
       "      <td>22513</td>\n",
       "      <td>[]</td>\n",
       "      <td>7595</td>\n",
       "    </tr>\n",
       "    <tr>\n",
       "      <th>menu_item</th>\n",
       "      <td>51717</td>\n",
       "      <td>9098</td>\n",
       "      <td>[]</td>\n",
       "      <td>39617</td>\n",
       "    </tr>\n",
       "    <tr>\n",
       "      <th>listed_in(type)</th>\n",
       "      <td>51717</td>\n",
       "      <td>7</td>\n",
       "      <td>Delivery</td>\n",
       "      <td>25942</td>\n",
       "    </tr>\n",
       "    <tr>\n",
       "      <th>listed_in(city)</th>\n",
       "      <td>51717</td>\n",
       "      <td>30</td>\n",
       "      <td>BTM</td>\n",
       "      <td>3279</td>\n",
       "    </tr>\n",
       "  </tbody>\n",
       "</table>\n",
       "</div>"
      ],
      "text/plain": [
       "                             count unique  \\\n",
       "url                          51717  51717   \n",
       "address                      51717  11495   \n",
       "name                         51717   8792   \n",
       "online_order                 51717      2   \n",
       "book_table                   51717      2   \n",
       "rate                         43942     64   \n",
       "phone                        50509  14926   \n",
       "location                     51696     93   \n",
       "rest_type                    51490     93   \n",
       "dish_liked                   23639   5271   \n",
       "cuisines                     51672   2723   \n",
       "approx_cost(for two people)  51371     70   \n",
       "reviews_list                 51717  22513   \n",
       "menu_item                    51717   9098   \n",
       "listed_in(type)              51717      7   \n",
       "listed_in(city)              51717     30   \n",
       "\n",
       "                                                                           top  \\\n",
       "url                          https://www.zomato.com/bangalore/the-konkan-se...   \n",
       "address                                                          Delivery Only   \n",
       "name                                                           Cafe Coffee Day   \n",
       "online_order                                                               Yes   \n",
       "book_table                                                                  No   \n",
       "rate                                                                       NEW   \n",
       "phone                                                             080 43334321   \n",
       "location                                                                   BTM   \n",
       "rest_type                                                          Quick Bites   \n",
       "dish_liked                                                             Biryani   \n",
       "cuisines                                                          North Indian   \n",
       "approx_cost(for two people)                                                300   \n",
       "reviews_list                                                                []   \n",
       "menu_item                                                                   []   \n",
       "listed_in(type)                                                       Delivery   \n",
       "listed_in(city)                                                            BTM   \n",
       "\n",
       "                              freq  \n",
       "url                              1  \n",
       "address                        128  \n",
       "name                            96  \n",
       "online_order                 30444  \n",
       "book_table                   45268  \n",
       "rate                          2208  \n",
       "phone                          216  \n",
       "location                      5124  \n",
       "rest_type                    19132  \n",
       "dish_liked                     182  \n",
       "cuisines                      2913  \n",
       "approx_cost(for two people)   7576  \n",
       "reviews_list                  7595  \n",
       "menu_item                    39617  \n",
       "listed_in(type)              25942  \n",
       "listed_in(city)               3279  "
      ]
     },
     "execution_count": 12,
     "metadata": {},
     "output_type": "execute_result"
    }
   ],
   "source": [
    "data.describe(include='object').T"
   ]
  },
  {
   "cell_type": "code",
   "execution_count": 13,
   "metadata": {},
   "outputs": [
    {
     "data": {
      "text/plain": [
       "url                                0\n",
       "address                            0\n",
       "name                               0\n",
       "online_order                       0\n",
       "book_table                         0\n",
       "rate                            7775\n",
       "votes                              0\n",
       "phone                           1208\n",
       "location                          21\n",
       "rest_type                        227\n",
       "dish_liked                     28078\n",
       "cuisines                          45\n",
       "approx_cost(for two people)      346\n",
       "reviews_list                       0\n",
       "menu_item                          0\n",
       "listed_in(type)                    0\n",
       "listed_in(city)                    0\n",
       "dtype: int64"
      ]
     },
     "execution_count": 13,
     "metadata": {},
     "output_type": "execute_result"
    }
   ],
   "source": [
    "data.isnull().sum()"
   ]
  },
  {
   "cell_type": "code",
   "execution_count": 14,
   "metadata": {},
   "outputs": [
    {
     "data": {
      "text/plain": [
       "url                             0.000000\n",
       "address                         0.000000\n",
       "name                            0.000000\n",
       "online_order                    0.000000\n",
       "book_table                      0.000000\n",
       "rate                           15.033741\n",
       "votes                           0.000000\n",
       "phone                           2.335789\n",
       "location                        0.040606\n",
       "rest_type                       0.438927\n",
       "dish_liked                     54.291626\n",
       "cuisines                        0.087012\n",
       "approx_cost(for two people)     0.669026\n",
       "reviews_list                    0.000000\n",
       "menu_item                       0.000000\n",
       "listed_in(type)                 0.000000\n",
       "listed_in(city)                 0.000000\n",
       "dtype: float64"
      ]
     },
     "execution_count": 14,
     "metadata": {},
     "output_type": "execute_result"
    }
   ],
   "source": [
    "(data.isnull().sum()/len(data))*100"
   ]
  },
  {
   "cell_type": "code",
   "execution_count": 15,
   "metadata": {},
   "outputs": [
    {
     "data": {
      "text/html": [
       "<div>\n",
       "<style scoped>\n",
       "    .dataframe tbody tr th:only-of-type {\n",
       "        vertical-align: middle;\n",
       "    }\n",
       "\n",
       "    .dataframe tbody tr th {\n",
       "        vertical-align: top;\n",
       "    }\n",
       "\n",
       "    .dataframe thead th {\n",
       "        text-align: right;\n",
       "    }\n",
       "</style>\n",
       "<table border=\"1\" class=\"dataframe\">\n",
       "  <thead>\n",
       "    <tr style=\"text-align: right;\">\n",
       "      <th></th>\n",
       "      <th>url</th>\n",
       "      <th>address</th>\n",
       "      <th>name</th>\n",
       "      <th>online_order</th>\n",
       "      <th>book_table</th>\n",
       "      <th>rate</th>\n",
       "      <th>votes</th>\n",
       "      <th>phone</th>\n",
       "      <th>location</th>\n",
       "      <th>rest_type</th>\n",
       "      <th>dish_liked</th>\n",
       "      <th>cuisines</th>\n",
       "      <th>approx_cost(for two people)</th>\n",
       "      <th>reviews_list</th>\n",
       "      <th>menu_item</th>\n",
       "      <th>listed_in(type)</th>\n",
       "      <th>listed_in(city)</th>\n",
       "    </tr>\n",
       "  </thead>\n",
       "  <tbody>\n",
       "  </tbody>\n",
       "</table>\n",
       "</div>"
      ],
      "text/plain": [
       "Empty DataFrame\n",
       "Columns: [url, address, name, online_order, book_table, rate, votes, phone, location, rest_type, dish_liked, cuisines, approx_cost(for two people), reviews_list, menu_item, listed_in(type), listed_in(city)]\n",
       "Index: []"
      ]
     },
     "execution_count": 15,
     "metadata": {},
     "output_type": "execute_result"
    }
   ],
   "source": [
    "data[data.duplicated()]"
   ]
  },
  {
   "cell_type": "code",
   "execution_count": 16,
   "metadata": {},
   "outputs": [
    {
     "data": {
      "text/plain": [
       "9098"
      ]
     },
     "execution_count": 16,
     "metadata": {},
     "output_type": "execute_result"
    }
   ],
   "source": [
    "len(data['menu_item'].unique())"
   ]
  },
  {
   "cell_type": "markdown",
   "metadata": {},
   "source": [
    "## Exploratory Data Analysis"
   ]
  },
  {
   "cell_type": "markdown",
   "metadata": {},
   "source": [
    "`1` :  **Plot of the Restaurant they are accepting the Online order or Not**"
   ]
  },
  {
   "cell_type": "code",
   "execution_count": 17,
   "metadata": {},
   "outputs": [
    {
     "data": {
      "text/plain": [
       "Text(0.5, 1.0, 'Restaurants provides Online order or Not')"
      ]
     },
     "execution_count": 17,
     "metadata": {},
     "output_type": "execute_result"
    },
    {
     "data": {
      "image/png": "[encoded data removed]",
      "text/plain": [
       "<Figure size 432x288 with 1 Axes>"
      ]
     },
     "metadata": {
      "needs_background": "light"
     },
     "output_type": "display_data"
    }
   ],
   "source": [
    "sns.countplot(data['online_order'])\n",
    "plt.title('Restaurants provides Online order or Not')"
   ]
  },
  {
   "cell_type": "markdown",
   "metadata": {},
   "source": [
    "`2` :  **Plot of the Restaurant that provides Table Booking or Not**"
   ]
  },
  {
   "cell_type": "code",
   "execution_count": 18,
   "metadata": {},
   "outputs": [
    {
     "data": {
      "text/plain": [
       "Text(0.5, 1.0, 'Restaurants provides Table Booking or Not')"
      ]
     },
     "execution_count": 18,
     "metadata": {},
     "output_type": "execute_result"
    },
    {
     "data": {
      "image/png": "[encoded data removed]",
      "text/plain": [
       "<Figure size 432x288 with 1 Axes>"
      ]
     },
     "metadata": {
      "needs_background": "light"
     },
     "output_type": "display_data"
    }
   ],
   "source": [
    "sns.countplot(data['book_table'])\n",
    "plt.title('Restaurants provides Table Booking or Not')"
   ]
  },
  {
   "cell_type": "markdown",
   "metadata": {},
   "source": [
    "`3` :  **Plot of the specific type of meals available in Restaurants of the cities**"
   ]
  },
  {
   "cell_type": "code",
   "execution_count": 19,
   "metadata": {},
   "outputs": [
    {
     "data": {
      "text/plain": [
       "array(['Buffet', 'Cafes', 'Delivery', 'Desserts', 'Dine-out',\n",
       "       'Drinks & nightlife', 'Pubs and bars'], dtype=object)"
      ]
     },
     "execution_count": 19,
     "metadata": {},
     "output_type": "execute_result"
    }
   ],
   "source": [
    "data['listed_in(type)'].unique()"
   ]
  },
  {
   "cell_type": "code",
   "execution_count": 20,
   "metadata": {},
   "outputs": [
    {
     "data": {
      "text/plain": [
       "Delivery              25942\n",
       "Dine-out              17779\n",
       "Desserts               3593\n",
       "Cafes                  1723\n",
       "Drinks & nightlife     1101\n",
       "Buffet                  882\n",
       "Pubs and bars           697\n",
       "Name: listed_in(type), dtype: int64"
      ]
     },
     "execution_count": 20,
     "metadata": {},
     "output_type": "execute_result"
    }
   ],
   "source": [
    "data['listed_in(type)'].value_counts()"
   ]
  },
  {
   "cell_type": "code",
   "execution_count": 21,
   "metadata": {},
   "outputs": [
    {
     "data": {
      "text/plain": [
       "array(['Banashankari', 'Bannerghatta Road', 'Basavanagudi', 'Bellandur',\n",
       "       'Brigade Road', 'Brookefield', 'BTM', 'Church Street',\n",
       "       'Electronic City', 'Frazer Town', 'HSR', 'Indiranagar',\n",
       "       'Jayanagar', 'JP Nagar', 'Kalyan Nagar', 'Kammanahalli',\n",
       "       'Koramangala 4th Block', 'Koramangala 5th Block',\n",
       "       'Koramangala 6th Block', 'Koramangala 7th Block', 'Lavelle Road',\n",
       "       'Malleshwaram', 'Marathahalli', 'MG Road', 'New BEL Road',\n",
       "       'Old Airport Road', 'Rajajinagar', 'Residency Road',\n",
       "       'Sarjapur Road', 'Whitefield'], dtype=object)"
      ]
     },
     "execution_count": 21,
     "metadata": {},
     "output_type": "execute_result"
    }
   ],
   "source": [
    "data['listed_in(city)'].unique()"
   ]
  },
  {
   "cell_type": "code",
   "execution_count": 22,
   "metadata": {
    "scrolled": true
   },
   "outputs": [
    {
     "data": {
      "text/plain": [
       "BTM                      3279\n",
       "Koramangala 7th Block    2938\n",
       "Koramangala 5th Block    2836\n",
       "Koramangala 4th Block    2779\n",
       "Koramangala 6th Block    2623\n",
       "Jayanagar                2371\n",
       "JP Nagar                 2096\n",
       "Indiranagar              1860\n",
       "Church Street            1827\n",
       "MG Road                  1811\n",
       "Brigade Road             1769\n",
       "Lavelle Road             1744\n",
       "HSR                      1741\n",
       "Marathahalli             1659\n",
       "Residency Road           1620\n",
       "Whitefield               1620\n",
       "Bannerghatta Road        1617\n",
       "Brookefield              1518\n",
       "Old Airport Road         1425\n",
       "Kammanahalli             1329\n",
       "Kalyan Nagar             1309\n",
       "Basavanagudi             1266\n",
       "Sarjapur Road            1261\n",
       "Electronic City          1229\n",
       "Bellandur                1227\n",
       "Frazer Town              1185\n",
       "Malleshwaram             1096\n",
       "Rajajinagar              1079\n",
       "Banashankari              863\n",
       "New BEL Road              740\n",
       "Name: listed_in(city), dtype: int64"
      ]
     },
     "execution_count": 22,
     "metadata": {},
     "output_type": "execute_result"
    }
   ],
   "source": [
    "data['listed_in(city)'].value_counts()"
   ]
  },
  {
   "cell_type": "code",
   "execution_count": 23,
   "metadata": {},
   "outputs": [
    {
     "name": "stderr",
     "output_type": "stream",
     "text": [
      "findfont: Font family ['Helvetica'] not found. Falling back to DejaVu Sans.\n"
     ]
    },
    {
     "data": {
      "image/png": "[encoded data removed]",
      "text/plain": [
       "<Figure size 2880x1728 with 1 Axes>"
      ]
     },
     "execution_count": 23,
     "metadata": {},
     "output_type": "execute_result"
    }
   ],
   "source": [
    "dexplot.count(\n",
    "               val   = 'listed_in(type)' ,\n",
    "               split = 'listed_in(city)' ,\n",
    "               data  =  data             ,\n",
    "               figsize   = (20,12)        ,\n",
    "               normalize = True          \n",
    "              )"
   ]
  },
  {
   "cell_type": "markdown",
   "metadata": {},
   "source": [
    "`4` : **Plotting for the Top Restuarant in the Bengaluru**"
   ]
  },
  {
   "cell_type": "code",
   "execution_count": 24,
   "metadata": {},
   "outputs": [
    {
     "data": {
      "text/plain": [
       "Cafe Coffee Day      96\n",
       "Onesta               85\n",
       "Just Bake            73\n",
       "Empire Restaurant    71\n",
       "Five Star Chicken    70\n",
       "Kanti Sweets         68\n",
       "Petoo                66\n",
       "Polar Bear           65\n",
       "Baskin Robbins       64\n",
       "Pizza Hut            62\n",
       "Name: name, dtype: int64"
      ]
     },
     "execution_count": 24,
     "metadata": {},
     "output_type": "execute_result"
    }
   ],
   "source": [
    "# top 10 \n",
    "rest_name = data['name'].value_counts()[:10]\n",
    "rest_name"
   ]
  },
  {
   "cell_type": "code",
   "execution_count": 25,
   "metadata": {},
   "outputs": [
    {
     "data": {
      "text/plain": [
       "Text(0.5, 1.0, 'Famous Restaurants in the City of Bengaluru')"
      ]
     },
     "execution_count": 25,
     "metadata": {},
     "output_type": "execute_result"
    },
    {
     "name": "stderr",
     "output_type": "stream",
     "text": [
      "findfont: Font family ['Helvetica'] not found. Falling back to DejaVu Sans.\n",
      "findfont: Font family ['Helvetica'] not found. Falling back to DejaVu Sans.\n",
      "findfont: Font family ['Helvetica'] not found. Falling back to DejaVu Sans.\n"
     ]
    },
    {
     "data": {
      "image/png": "[encoded data removed]",
      "text/plain": [
       "<Figure size 576x432 with 1 Axes>"
      ]
     },
     "metadata": {
      "needs_background": "light"
     },
     "output_type": "display_data"
    }
   ],
   "source": [
    "plt.figure(figsize=(8,6))\n",
    "sns.barplot(x = rest_name.index ,y = rest_name)\n",
    "\n",
    "plt.xticks(fontsize=10, rotation=90)\n",
    "\n",
    "plt.xlabel('Restaurants' , fontsize=15)\n",
    "plt.ylabel('Number of Outlets' , fontsize=15)\n",
    "\n",
    "plt.title(\"Famous Restaurants in the City of Bengaluru\" , fontsize=20)"
   ]
  },
  {
   "cell_type": "markdown",
   "metadata": {},
   "source": [
    "`5 ` : **Restaurant Type**"
   ]
  },
  {
   "cell_type": "code",
   "execution_count": 26,
   "metadata": {},
   "outputs": [
    {
     "data": {
      "text/plain": [
       "Text(0.5, 1.0, 'Restaurants delivering online or Not')"
      ]
     },
     "execution_count": 26,
     "metadata": {},
     "output_type": "execute_result"
    },
    {
     "name": "stderr",
     "output_type": "stream",
     "text": [
      "findfont: Font family ['Helvetica'] not found. Falling back to DejaVu Sans.\n"
     ]
    },
    {
     "data": {
      "image/png": "[encoded data removed]",
      "text/plain": [
       "<Figure size 576x432 with 1 Axes>"
      ]
     },
     "metadata": {
      "needs_background": "light"
     },
     "output_type": "display_data"
    }
   ],
   "source": [
    "plt.figure(figsize=(8,6))\n",
    "sns.countplot(data['listed_in(type)'])\n",
    "\n",
    "plt.xticks(fontsize=10, rotation=90)\n",
    "plt.yticks(fontsize=10)\n",
    "\n",
    "plt.xlabel('Restaurants' ,fontsize=10)\n",
    "\n",
    "plt.title('Restaurants delivering online or Not')"
   ]
  },
  {
   "cell_type": "markdown",
   "metadata": {},
   "source": [
    "`6` : **Handling Missing Value in Rate**"
   ]
  },
  {
   "cell_type": "code",
   "execution_count": 27,
   "metadata": {},
   "outputs": [
    {
     "data": {
      "text/plain": [
       "array(['4.1/5', '3.8/5', '3.7/5', '3.6/5', '4.6/5', '4.0/5', '4.2/5',\n",
       "       '3.9/5', '3.1/5', '3.0/5', '3.2/5', '3.3/5', '2.8/5', '4.4/5',\n",
       "       '4.3/5', 'NEW', '2.9/5', '3.5/5', nan, '2.6/5', '3.8 /5', '3.4/5',\n",
       "       '4.5/5', '2.5/5', '2.7/5', '4.7/5', '2.4/5', '2.2/5', '2.3/5',\n",
       "       '3.4 /5', '-', '3.6 /5', '4.8/5', '3.9 /5', '4.2 /5', '4.0 /5',\n",
       "       '4.1 /5', '3.7 /5', '3.1 /5', '2.9 /5', '3.3 /5', '2.8 /5',\n",
       "       '3.5 /5', '2.7 /5', '2.5 /5', '3.2 /5', '2.6 /5', '4.5 /5',\n",
       "       '4.3 /5', '4.4 /5', '4.9/5', '2.1/5', '2.0/5', '1.8/5', '4.6 /5',\n",
       "       '4.9 /5', '3.0 /5', '4.8 /5', '2.3 /5', '4.7 /5', '2.4 /5',\n",
       "       '2.1 /5', '2.2 /5', '2.0 /5', '1.8 /5'], dtype=object)"
      ]
     },
     "execution_count": 27,
     "metadata": {},
     "output_type": "execute_result"
    }
   ],
   "source": [
    "data['rate'].unique()"
   ]
  },
  {
   "cell_type": "code",
   "execution_count": 28,
   "metadata": {},
   "outputs": [
    {
     "data": {
      "text/plain": [
       "65"
      ]
     },
     "execution_count": 28,
     "metadata": {},
     "output_type": "execute_result"
    }
   ],
   "source": [
    "len(data['rate'].unique())"
   ]
  },
  {
   "cell_type": "code",
   "execution_count": 29,
   "metadata": {},
   "outputs": [],
   "source": [
    "data['rate'] = data['rate'].replace(['-','NEW',np.NaN] ,'0.0/5')"
   ]
  },
  {
   "cell_type": "code",
   "execution_count": 30,
   "metadata": {},
   "outputs": [
    {
     "data": {
      "text/plain": [
       "array(['4.1/5', '3.8/5', '3.7/5', '3.6/5', '4.6/5', '4.0/5', '4.2/5',\n",
       "       '3.9/5', '3.1/5', '3.0/5', '3.2/5', '3.3/5', '2.8/5', '4.4/5',\n",
       "       '4.3/5', '0.0/5', '2.9/5', '3.5/5', '2.6/5', '3.8 /5', '3.4/5',\n",
       "       '4.5/5', '2.5/5', '2.7/5', '4.7/5', '2.4/5', '2.2/5', '2.3/5',\n",
       "       '3.4 /5', '3.6 /5', '4.8/5', '3.9 /5', '4.2 /5', '4.0 /5',\n",
       "       '4.1 /5', '3.7 /5', '3.1 /5', '2.9 /5', '3.3 /5', '2.8 /5',\n",
       "       '3.5 /5', '2.7 /5', '2.5 /5', '3.2 /5', '2.6 /5', '4.5 /5',\n",
       "       '4.3 /5', '4.4 /5', '4.9/5', '2.1/5', '2.0/5', '1.8/5', '4.6 /5',\n",
       "       '4.9 /5', '3.0 /5', '4.8 /5', '2.3 /5', '4.7 /5', '2.4 /5',\n",
       "       '2.1 /5', '2.2 /5', '2.0 /5', '1.8 /5'], dtype=object)"
      ]
     },
     "execution_count": 30,
     "metadata": {},
     "output_type": "execute_result"
    }
   ],
   "source": [
    "data['rate'].unique()"
   ]
  },
  {
   "cell_type": "code",
   "execution_count": 31,
   "metadata": {},
   "outputs": [],
   "source": [
    "data['rate'] = data['rate'].apply(lambda x:float(x[0:3]))"
   ]
  },
  {
   "cell_type": "code",
   "execution_count": 32,
   "metadata": {},
   "outputs": [
    {
     "data": {
      "text/plain": [
       "<AxesSubplot:xlabel='rate', ylabel='count'>"
      ]
     },
     "execution_count": 32,
     "metadata": {},
     "output_type": "execute_result"
    },
    {
     "data": {
      "image/png": "[encoded data removed]",
      "text/plain": [
       "<Figure size 432x288 with 1 Axes>"
      ]
     },
     "metadata": {
      "needs_background": "light"
     },
     "output_type": "display_data"
    }
   ],
   "source": [
    "sns.countplot(data['rate'])"
   ]
  },
  {
   "cell_type": "code",
   "execution_count": 33,
   "metadata": {},
   "outputs": [
    {
     "data": {
      "text/plain": [
       "<AxesSubplot:xlabel='rate', ylabel='Density'>"
      ]
     },
     "execution_count": 33,
     "metadata": {},
     "output_type": "execute_result"
    },
    {
     "data": {
      "image/png": "[encoded data removed]",
      "text/plain": [
       "<Figure size 432x288 with 1 Axes>"
      ]
     },
     "metadata": {
      "needs_background": "light"
     },
     "output_type": "display_data"
    }
   ],
   "source": [
    "sns.distplot(data['rate'] ,bins=25)"
   ]
  },
  {
   "cell_type": "markdown",
   "metadata": {},
   "source": [
    "`7` : **Handling Missing Value in Location**"
   ]
  },
  {
   "cell_type": "code",
   "execution_count": 34,
   "metadata": {},
   "outputs": [
    {
     "data": {
      "text/plain": [
       "BTM                      5124\n",
       "HSR                      2523\n",
       "Koramangala 5th Block    2504\n",
       "JP Nagar                 2235\n",
       "Whitefield               2144\n",
       "                         ... \n",
       "Yelahanka                   6\n",
       "West Bangalore              6\n",
       "Jakkur                      3\n",
       "Rajarajeshwari Nagar        2\n",
       "Peenya                      1\n",
       "Name: location, Length: 93, dtype: int64"
      ]
     },
     "execution_count": 34,
     "metadata": {},
     "output_type": "execute_result"
    }
   ],
   "source": [
    "data['location'].value_counts()"
   ]
  },
  {
   "cell_type": "code",
   "execution_count": 35,
   "metadata": {},
   "outputs": [
    {
     "data": {
      "text/plain": [
       "94"
      ]
     },
     "execution_count": 35,
     "metadata": {},
     "output_type": "execute_result"
    }
   ],
   "source": [
    "len(data['location'].unique())"
   ]
  },
  {
   "cell_type": "code",
   "execution_count": 36,
   "metadata": {},
   "outputs": [],
   "source": [
    "cond = data.groupby('location')['rate'].count() / len(data)\n",
    "cond = cond[cond>0.001].index\n",
    "data['location'] = np.where(data['location'].isin(cond) , data['location'] ,'Rare_var')"
   ]
  },
  {
   "cell_type": "code",
   "execution_count": 37,
   "metadata": {},
   "outputs": [
    {
     "data": {
      "text/plain": [
       "BTM                      5124\n",
       "HSR                      2523\n",
       "Koramangala 5th Block    2504\n",
       "JP Nagar                 2235\n",
       "Whitefield               2144\n",
       "                         ... \n",
       "RT Nagar                   80\n",
       "Vijay Nagar                80\n",
       "Sanjay Nagar               76\n",
       "Sadashiv Nagar             63\n",
       "Sahakara Nagar             53\n",
       "Name: location, Length: 72, dtype: int64"
      ]
     },
     "execution_count": 37,
     "metadata": {},
     "output_type": "execute_result"
    }
   ],
   "source": [
    "data['location'].value_counts()"
   ]
  },
  {
   "cell_type": "markdown",
   "metadata": {},
   "source": [
    "`8` : **Handling Remaining Missing Value** "
   ]
  },
  {
   "cell_type": "code",
   "execution_count": 38,
   "metadata": {},
   "outputs": [
    {
     "data": {
      "text/plain": [
       "url                                0\n",
       "address                            0\n",
       "name                               0\n",
       "online_order                       0\n",
       "book_table                         0\n",
       "rate                               0\n",
       "votes                              0\n",
       "phone                           1208\n",
       "location                           0\n",
       "rest_type                        227\n",
       "dish_liked                     28078\n",
       "cuisines                          45\n",
       "approx_cost(for two people)      346\n",
       "reviews_list                       0\n",
       "menu_item                          0\n",
       "listed_in(type)                    0\n",
       "listed_in(city)                    0\n",
       "dtype: int64"
      ]
     },
     "execution_count": 38,
     "metadata": {},
     "output_type": "execute_result"
    }
   ],
   "source": [
    "data.isnull().sum() "
   ]
  },
  {
   "cell_type": "code",
   "execution_count": 39,
   "metadata": {},
   "outputs": [],
   "source": [
    "data = data.drop(['url','phone','dish_liked'] ,axis=1)"
   ]
  },
  {
   "cell_type": "code",
   "execution_count": 40,
   "metadata": {},
   "outputs": [
    {
     "data": {
      "text/plain": [
       "(51717, 14)"
      ]
     },
     "execution_count": 40,
     "metadata": {},
     "output_type": "execute_result"
    }
   ],
   "source": [
    "data.shape"
   ]
  },
  {
   "cell_type": "code",
   "execution_count": 41,
   "metadata": {},
   "outputs": [],
   "source": [
    "data = data.dropna()"
   ]
  },
  {
   "cell_type": "code",
   "execution_count": 42,
   "metadata": {},
   "outputs": [
    {
     "data": {
      "text/plain": [
       "(51148, 14)"
      ]
     },
     "execution_count": 42,
     "metadata": {},
     "output_type": "execute_result"
    }
   ],
   "source": [
    "data.shape"
   ]
  },
  {
   "cell_type": "code",
   "execution_count": 43,
   "metadata": {},
   "outputs": [
    {
     "data": {
      "text/plain": [
       "address                        0\n",
       "name                           0\n",
       "online_order                   0\n",
       "book_table                     0\n",
       "rate                           0\n",
       "votes                          0\n",
       "location                       0\n",
       "rest_type                      0\n",
       "cuisines                       0\n",
       "approx_cost(for two people)    0\n",
       "reviews_list                   0\n",
       "menu_item                      0\n",
       "listed_in(type)                0\n",
       "listed_in(city)                0\n",
       "dtype: int64"
      ]
     },
     "execution_count": 43,
     "metadata": {},
     "output_type": "execute_result"
    }
   ],
   "source": [
    "data.isnull().sum() "
   ]
  },
  {
   "cell_type": "markdown",
   "metadata": {},
   "source": [
    "`9` : **approx_cost(for two people)**"
   ]
  },
  {
   "cell_type": "code",
   "execution_count": 44,
   "metadata": {},
   "outputs": [
    {
     "data": {
      "text/plain": [
       "array(['800', '300', '600', '700', '550', '500', '450', '650', '400',\n",
       "       '900', '200', '750', '150', '850', '100', '1,200', '350', '250',\n",
       "       '950', '1,000', '1,500', '1,300', '199', '80', '1,100', '160',\n",
       "       '1,600', '230', '130', '50', '190', '1,700', '1,400', '180',\n",
       "       '1,350', '2,200', '2,000', '1,800', '1,900', '330', '2,500',\n",
       "       '2,100', '3,000', '2,800', '3,400', '40', '1,250', '3,500',\n",
       "       '4,000', '2,400', '2,600', '120', '1,450', '469', '70', '3,200',\n",
       "       '60', '560', '240', '360', '6,000', '1,050', '2,300', '4,100',\n",
       "       '5,000', '3,700', '1,650', '2,700', '4,500', '140'], dtype=object)"
      ]
     },
     "execution_count": 44,
     "metadata": {},
     "output_type": "execute_result"
    }
   ],
   "source": [
    "data['approx_cost(for two people)'].unique()"
   ]
  },
  {
   "cell_type": "code",
   "execution_count": 45,
   "metadata": {},
   "outputs": [],
   "source": [
    "data['approx_cost(for two people)'] = data['approx_cost(for two people)'].apply(lambda x:int(x.replace(',','')))"
   ]
  },
  {
   "cell_type": "code",
   "execution_count": 46,
   "metadata": {},
   "outputs": [
    {
     "data": {
      "text/plain": [
       "array([ 800,  300,  600,  700,  550,  500,  450,  650,  400,  900,  200,\n",
       "        750,  150,  850,  100, 1200,  350,  250,  950, 1000, 1500, 1300,\n",
       "        199,   80, 1100,  160, 1600,  230,  130,   50,  190, 1700, 1400,\n",
       "        180, 1350, 2200, 2000, 1800, 1900,  330, 2500, 2100, 3000, 2800,\n",
       "       3400,   40, 1250, 3500, 4000, 2400, 2600,  120, 1450,  469,   70,\n",
       "       3200,   60,  560,  240,  360, 6000, 1050, 2300, 4100, 5000, 3700,\n",
       "       1650, 2700, 4500,  140], dtype=int64)"
      ]
     },
     "execution_count": 46,
     "metadata": {},
     "output_type": "execute_result"
    }
   ],
   "source": [
    "data['approx_cost(for two people)'].unique()"
   ]
  },
  {
   "cell_type": "markdown",
   "metadata": {},
   "source": [
    "`10` : **Name Column** "
   ]
  },
  {
   "cell_type": "code",
   "execution_count": 47,
   "metadata": {},
   "outputs": [
    {
     "data": {
      "text/plain": [
       "8723"
      ]
     },
     "execution_count": 47,
     "metadata": {},
     "output_type": "execute_result"
    }
   ],
   "source": [
    "len(data['name'].unique())"
   ]
  },
  {
   "cell_type": "code",
   "execution_count": 48,
   "metadata": {},
   "outputs": [],
   "source": [
    "count = data['name'].value_counts()"
   ]
  },
  {
   "cell_type": "code",
   "execution_count": 49,
   "metadata": {},
   "outputs": [],
   "source": [
    "data['name'] = data['name'].apply(lambda x :x  if count[x]>3  else 'Rare')"
   ]
  },
  {
   "cell_type": "code",
   "execution_count": 50,
   "metadata": {},
   "outputs": [
    {
     "data": {
      "text/plain": [
       "4885"
      ]
     },
     "execution_count": 50,
     "metadata": {},
     "output_type": "execute_result"
    }
   ],
   "source": [
    "len(data['name'].unique())"
   ]
  },
  {
   "cell_type": "markdown",
   "metadata": {},
   "source": [
    "`11` : **Scaling and Encoding**"
   ]
  },
  {
   "cell_type": "code",
   "execution_count": 51,
   "metadata": {},
   "outputs": [],
   "source": [
    "data['online_order'] = data['online_order'].replace(('Yes','No'),(1 ,0))"
   ]
  },
  {
   "cell_type": "code",
   "execution_count": 52,
   "metadata": {},
   "outputs": [],
   "source": [
    "data['book_table']   = data['book_table'].replace(('Yes','No'),(1 ,0))"
   ]
  },
  {
   "cell_type": "code",
   "execution_count": 53,
   "metadata": {},
   "outputs": [
    {
     "data": {
      "text/plain": [
       "0     9863\n",
       "4     1130\n",
       "6      984\n",
       "7      858\n",
       "9      735\n",
       "11     687\n",
       "5      662\n",
       "8      620\n",
       "10     617\n",
       "16     525\n",
       "Name: votes, dtype: int64"
      ]
     },
     "execution_count": 53,
     "metadata": {},
     "output_type": "execute_result"
    }
   ],
   "source": [
    "data['votes'].value_counts()[0:10]"
   ]
  },
  {
   "cell_type": "code",
   "execution_count": 54,
   "metadata": {},
   "outputs": [],
   "source": [
    "data = data.drop(['address'] ,axis=1)"
   ]
  },
  {
   "cell_type": "code",
   "execution_count": 55,
   "metadata": {},
   "outputs": [
    {
     "name": "stdout",
     "output_type": "stream",
     "text": [
      "<class 'pandas.core.frame.DataFrame'>\n",
      "Int64Index: 51148 entries, 0 to 51716\n",
      "Data columns (total 13 columns):\n",
      " #   Column                       Non-Null Count  Dtype  \n",
      "---  ------                       --------------  -----  \n",
      " 0   name                         51148 non-null  object \n",
      " 1   online_order                 51148 non-null  int64  \n",
      " 2   book_table                   51148 non-null  int64  \n",
      " 3   rate                         51148 non-null  float64\n",
      " 4   votes                        51148 non-null  int64  \n",
      " 5   location                     51148 non-null  object \n",
      " 6   rest_type                    51148 non-null  object \n",
      " 7   cuisines                     51148 non-null  object \n",
      " 8   approx_cost(for two people)  51148 non-null  int64  \n",
      " 9   reviews_list                 51148 non-null  object \n",
      " 10  menu_item                    51148 non-null  object \n",
      " 11  listed_in(type)              51148 non-null  object \n",
      " 12  listed_in(city)              51148 non-null  object \n",
      "dtypes: float64(1), int64(4), object(8)\n",
      "memory usage: 5.5+ MB\n"
     ]
    }
   ],
   "source": [
    "data.info()"
   ]
  },
  {
   "cell_type": "code",
   "execution_count": 56,
   "metadata": {},
   "outputs": [],
   "source": [
    "col = ['votes' ,'approx_cost(for two people)']"
   ]
  },
  {
   "cell_type": "code",
   "execution_count": 57,
   "metadata": {},
   "outputs": [],
   "source": [
    "sc = StandardScaler()"
   ]
  },
  {
   "cell_type": "code",
   "execution_count": 58,
   "metadata": {},
   "outputs": [],
   "source": [
    "data[col] = sc.fit_transform(data[col])"
   ]
  },
  {
   "cell_type": "code",
   "execution_count": 59,
   "metadata": {},
   "outputs": [],
   "source": [
    "col = ['name' ,'location' ,'rest_type' ,'cuisines' ,'reviews_list' ,'menu_item' ,'listed_in(type)' ,'listed_in(city)']"
   ]
  },
  {
   "cell_type": "code",
   "execution_count": 60,
   "metadata": {},
   "outputs": [],
   "source": [
    "for feat in col:\n",
    "    data[feat] = data[feat].factorize()[0]"
   ]
  },
  {
   "cell_type": "code",
   "execution_count": 61,
   "metadata": {},
   "outputs": [
    {
     "name": "stdout",
     "output_type": "stream",
     "text": [
      "<class 'pandas.core.frame.DataFrame'>\n",
      "Int64Index: 51148 entries, 0 to 51716\n",
      "Data columns (total 13 columns):\n",
      " #   Column                       Non-Null Count  Dtype  \n",
      "---  ------                       --------------  -----  \n",
      " 0   name                         51148 non-null  int64  \n",
      " 1   online_order                 51148 non-null  int64  \n",
      " 2   book_table                   51148 non-null  int64  \n",
      " 3   rate                         51148 non-null  float64\n",
      " 4   votes                        51148 non-null  float64\n",
      " 5   location                     51148 non-null  int64  \n",
      " 6   rest_type                    51148 non-null  int64  \n",
      " 7   cuisines                     51148 non-null  int64  \n",
      " 8   approx_cost(for two people)  51148 non-null  float64\n",
      " 9   reviews_list                 51148 non-null  int64  \n",
      " 10  menu_item                    51148 non-null  int64  \n",
      " 11  listed_in(type)              51148 non-null  int64  \n",
      " 12  listed_in(city)              51148 non-null  int64  \n",
      "dtypes: float64(3), int64(10)\n",
      "memory usage: 5.5 MB\n"
     ]
    }
   ],
   "source": [
    "data.info()"
   ]
  },
  {
   "cell_type": "code",
   "execution_count": 62,
   "metadata": {},
   "outputs": [
    {
     "data": {
      "text/html": [
       "<div>\n",
       "<style scoped>\n",
       "    .dataframe tbody tr th:only-of-type {\n",
       "        vertical-align: middle;\n",
       "    }\n",
       "\n",
       "    .dataframe tbody tr th {\n",
       "        vertical-align: top;\n",
       "    }\n",
       "\n",
       "    .dataframe thead th {\n",
       "        text-align: right;\n",
       "    }\n",
       "</style>\n",
       "<table border=\"1\" class=\"dataframe\">\n",
       "  <thead>\n",
       "    <tr style=\"text-align: right;\">\n",
       "      <th></th>\n",
       "      <th>name</th>\n",
       "      <th>online_order</th>\n",
       "      <th>book_table</th>\n",
       "      <th>rate</th>\n",
       "      <th>votes</th>\n",
       "      <th>location</th>\n",
       "      <th>rest_type</th>\n",
       "      <th>cuisines</th>\n",
       "      <th>approx_cost(for two people)</th>\n",
       "      <th>reviews_list</th>\n",
       "      <th>menu_item</th>\n",
       "      <th>listed_in(type)</th>\n",
       "      <th>listed_in(city)</th>\n",
       "    </tr>\n",
       "  </thead>\n",
       "  <tbody>\n",
       "    <tr>\n",
       "      <th>0</th>\n",
       "      <td>0</td>\n",
       "      <td>1</td>\n",
       "      <td>1</td>\n",
       "      <td>4.1</td>\n",
       "      <td>0.607675</td>\n",
       "      <td>0</td>\n",
       "      <td>0</td>\n",
       "      <td>0</td>\n",
       "      <td>0.555012</td>\n",
       "      <td>0</td>\n",
       "      <td>0</td>\n",
       "      <td>0</td>\n",
       "      <td>0</td>\n",
       "    </tr>\n",
       "    <tr>\n",
       "      <th>1</th>\n",
       "      <td>1</td>\n",
       "      <td>1</td>\n",
       "      <td>0</td>\n",
       "      <td>4.1</td>\n",
       "      <td>0.622554</td>\n",
       "      <td>0</td>\n",
       "      <td>0</td>\n",
       "      <td>1</td>\n",
       "      <td>0.555012</td>\n",
       "      <td>1</td>\n",
       "      <td>0</td>\n",
       "      <td>0</td>\n",
       "      <td>0</td>\n",
       "    </tr>\n",
       "    <tr>\n",
       "      <th>2</th>\n",
       "      <td>2</td>\n",
       "      <td>1</td>\n",
       "      <td>0</td>\n",
       "      <td>3.8</td>\n",
       "      <td>0.784987</td>\n",
       "      <td>0</td>\n",
       "      <td>1</td>\n",
       "      <td>2</td>\n",
       "      <td>0.555012</td>\n",
       "      <td>2</td>\n",
       "      <td>0</td>\n",
       "      <td>0</td>\n",
       "      <td>0</td>\n",
       "    </tr>\n",
       "    <tr>\n",
       "      <th>3</th>\n",
       "      <td>3</td>\n",
       "      <td>0</td>\n",
       "      <td>0</td>\n",
       "      <td>3.7</td>\n",
       "      <td>-0.244167</td>\n",
       "      <td>0</td>\n",
       "      <td>2</td>\n",
       "      <td>3</td>\n",
       "      <td>-0.582512</td>\n",
       "      <td>3</td>\n",
       "      <td>0</td>\n",
       "      <td>0</td>\n",
       "      <td>0</td>\n",
       "    </tr>\n",
       "    <tr>\n",
       "      <th>4</th>\n",
       "      <td>4</td>\n",
       "      <td>0</td>\n",
       "      <td>0</td>\n",
       "      <td>3.8</td>\n",
       "      <td>-0.147452</td>\n",
       "      <td>1</td>\n",
       "      <td>0</td>\n",
       "      <td>4</td>\n",
       "      <td>0.100003</td>\n",
       "      <td>4</td>\n",
       "      <td>0</td>\n",
       "      <td>0</td>\n",
       "      <td>0</td>\n",
       "    </tr>\n",
       "  </tbody>\n",
       "</table>\n",
       "</div>"
      ],
      "text/plain": [
       "   name  online_order  book_table  rate     votes  location  rest_type  \\\n",
       "0     0             1           1   4.1  0.607675         0          0   \n",
       "1     1             1           0   4.1  0.622554         0          0   \n",
       "2     2             1           0   3.8  0.784987         0          1   \n",
       "3     3             0           0   3.7 -0.244167         0          2   \n",
       "4     4             0           0   3.8 -0.147452         1          0   \n",
       "\n",
       "   cuisines  approx_cost(for two people)  reviews_list  menu_item  \\\n",
       "0         0                     0.555012             0          0   \n",
       "1         1                     0.555012             1          0   \n",
       "2         2                     0.555012             2          0   \n",
       "3         3                    -0.582512             3          0   \n",
       "4         4                     0.100003             4          0   \n",
       "\n",
       "   listed_in(type)  listed_in(city)  \n",
       "0                0                0  \n",
       "1                0                0  \n",
       "2                0                0  \n",
       "3                0                0  \n",
       "4                0                0  "
      ]
     },
     "execution_count": 62,
     "metadata": {},
     "output_type": "execute_result"
    }
   ],
   "source": [
    "data.head()"
   ]
  },
  {
   "cell_type": "markdown",
   "metadata": {},
   "source": [
    "## Models"
   ]
  },
  {
   "cell_type": "code",
   "execution_count": 63,
   "metadata": {},
   "outputs": [
    {
     "data": {
      "text/plain": [
       "Index(['name', 'online_order', 'book_table', 'rate', 'votes', 'location',\n",
       "       'rest_type', 'cuisines', 'approx_cost(for two people)', 'reviews_list',\n",
       "       'menu_item', 'listed_in(type)', 'listed_in(city)'],\n",
       "      dtype='object')"
      ]
     },
     "execution_count": 63,
     "metadata": {},
     "output_type": "execute_result"
    }
   ],
   "source": [
    "data.columns"
   ]
  },
  {
   "cell_type": "code",
   "execution_count": 64,
   "metadata": {},
   "outputs": [],
   "source": [
    "X = data.drop(['rate'] ,axis=1)\n",
    "y = data['rate']"
   ]
  },
  {
   "cell_type": "markdown",
   "metadata": {},
   "source": [
    "`12` :  **Correlation between different variables**"
   ]
  },
  {
   "cell_type": "code",
   "execution_count": 65,
   "metadata": {},
   "outputs": [
    {
     "data": {
      "image/png": "[encoded data removed]",
      "text/plain": [
       "<Figure size 1080x1080 with 2 Axes>"
      ]
     },
     "metadata": {
      "needs_background": "light"
     },
     "output_type": "display_data"
    }
   ],
   "source": [
    "plt.figure(figsize=(15,15))\n",
    "\n",
    "sns.heatmap( X.corr() ,annot=True)\n",
    "\n",
    "plt.xticks(fontsize=10, rotation=90)\n",
    "plt.yticks(fontsize=10);"
   ]
  },
  {
   "cell_type": "code",
   "execution_count": 66,
   "metadata": {},
   "outputs": [],
   "source": [
    "X = X.drop(['listed_in(type)'] ,axis=1)"
   ]
  },
  {
   "cell_type": "code",
   "execution_count": 67,
   "metadata": {},
   "outputs": [],
   "source": [
    "X_train,X_test,y_train,y_test = train_test_split(X,y,test_size=0.3,random_state=0)"
   ]
  },
  {
   "cell_type": "markdown",
   "metadata": {},
   "source": [
    "`1. LinearRegression`"
   ]
  },
  {
   "cell_type": "code",
   "execution_count": 68,
   "metadata": {},
   "outputs": [],
   "source": [
    "lr = LinearRegression() "
   ]
  },
  {
   "cell_type": "code",
   "execution_count": 69,
   "metadata": {},
   "outputs": [
    {
     "data": {
      "text/plain": [
       "LinearRegression()"
      ]
     },
     "execution_count": 69,
     "metadata": {},
     "output_type": "execute_result"
    }
   ],
   "source": [
    "lr.fit(X_train ,y_train)"
   ]
  },
  {
   "cell_type": "code",
   "execution_count": 70,
   "metadata": {},
   "outputs": [],
   "source": [
    "lr_pred = lr.predict(X_test)"
   ]
  },
  {
   "cell_type": "code",
   "execution_count": 71,
   "metadata": {},
   "outputs": [
    {
     "data": {
      "text/plain": [
       "0.3353064964186194"
      ]
     },
     "execution_count": 71,
     "metadata": {},
     "output_type": "execute_result"
    }
   ],
   "source": [
    "lr_score = r2_score(y_test ,lr_pred)\n",
    "lr_score"
   ]
  },
  {
   "cell_type": "markdown",
   "metadata": {},
   "source": [
    "`2. DecisionTreeRegressor`"
   ]
  },
  {
   "cell_type": "code",
   "execution_count": 72,
   "metadata": {},
   "outputs": [],
   "source": [
    "dt = DecisionTreeRegressor(\n",
    "                            criterion='mse',\n",
    "                            splitter='best',\n",
    "                          )"
   ]
  },
  {
   "cell_type": "code",
   "execution_count": 73,
   "metadata": {},
   "outputs": [
    {
     "data": {
      "text/plain": [
       "DecisionTreeRegressor()"
      ]
     },
     "execution_count": 73,
     "metadata": {},
     "output_type": "execute_result"
    }
   ],
   "source": [
    "dt.fit(X_train ,y_train)"
   ]
  },
  {
   "cell_type": "code",
   "execution_count": 74,
   "metadata": {},
   "outputs": [],
   "source": [
    "dt_pred = dt.predict(X_test)"
   ]
  },
  {
   "cell_type": "code",
   "execution_count": 75,
   "metadata": {},
   "outputs": [
    {
     "data": {
      "text/plain": [
       "0.9716084602959498"
      ]
     },
     "execution_count": 75,
     "metadata": {},
     "output_type": "execute_result"
    }
   ],
   "source": [
    "dt_score = r2_score(y_test ,dt_pred)\n",
    "dt_score"
   ]
  },
  {
   "cell_type": "markdown",
   "metadata": {},
   "source": [
    "`3. RandomForestRegressor`"
   ]
  },
  {
   "cell_type": "code",
   "execution_count": 76,
   "metadata": {},
   "outputs": [],
   "source": [
    "rf = RandomForestRegressor(\n",
    "                            n_estimators=600, \n",
    "                            criterion='mse', \n",
    "                            min_samples_split=2\n",
    "                          )"
   ]
  },
  {
   "cell_type": "code",
   "execution_count": 77,
   "metadata": {},
   "outputs": [
    {
     "data": {
      "text/plain": [
       "RandomForestRegressor(n_estimators=600)"
      ]
     },
     "execution_count": 77,
     "metadata": {},
     "output_type": "execute_result"
    }
   ],
   "source": [
    "rf.fit(X_train ,y_train)"
   ]
  },
  {
   "cell_type": "code",
   "execution_count": 78,
   "metadata": {},
   "outputs": [],
   "source": [
    "rf_pred = rf.predict(X_test)"
   ]
  },
  {
   "cell_type": "code",
   "execution_count": 79,
   "metadata": {},
   "outputs": [
    {
     "data": {
      "text/plain": [
       "0.9835475827277763"
      ]
     },
     "execution_count": 79,
     "metadata": {},
     "output_type": "execute_result"
    }
   ],
   "source": [
    "rf_score = r2_score(y_test ,rf_pred)\n",
    "rf_score"
   ]
  },
  {
   "cell_type": "markdown",
   "metadata": {},
   "source": [
    "`4. CatBoostRegressor`"
   ]
  },
  {
   "cell_type": "code",
   "execution_count": 80,
   "metadata": {},
   "outputs": [],
   "source": [
    "cbr = CatBoostRegressor(\n",
    "                         n_estimators = 200,\n",
    "                         loss_function = 'MAE',\n",
    "                         eval_metric = 'RMSE'\n",
    "                        )"
   ]
  },
  {
   "cell_type": "code",
   "execution_count": 81,
   "metadata": {},
   "outputs": [
    {
     "name": "stdout",
     "output_type": "stream",
     "text": [
      "0:\tlearn: 1.5975790\ttotal: 298ms\tremaining: 59.4s\n",
      "1:\tlearn: 1.5532582\ttotal: 309ms\tremaining: 30.6s\n",
      "2:\tlearn: 1.5084459\ttotal: 318ms\tremaining: 20.9s\n",
      "3:\tlearn: 1.4654124\ttotal: 326ms\tremaining: 16s\n",
      "4:\tlearn: 1.4237107\ttotal: 334ms\tremaining: 13s\n",
      "5:\tlearn: 1.3833853\ttotal: 343ms\tremaining: 11.1s\n",
      "6:\tlearn: 1.3442712\ttotal: 351ms\tremaining: 9.67s\n",
      "7:\tlearn: 1.3064727\ttotal: 359ms\tremaining: 8.62s\n",
      "8:\tlearn: 1.2697902\ttotal: 367ms\tremaining: 7.79s\n",
      "9:\tlearn: 1.2342915\ttotal: 376ms\tremaining: 7.14s\n",
      "10:\tlearn: 1.2000467\ttotal: 384ms\tremaining: 6.6s\n",
      "11:\tlearn: 1.1666539\ttotal: 392ms\tremaining: 6.14s\n",
      "12:\tlearn: 1.1344174\ttotal: 400ms\tremaining: 5.76s\n",
      "13:\tlearn: 1.1033174\ttotal: 408ms\tremaining: 5.43s\n",
      "14:\tlearn: 1.0732506\ttotal: 416ms\tremaining: 5.13s\n",
      "15:\tlearn: 1.0441799\ttotal: 424ms\tremaining: 4.87s\n",
      "16:\tlearn: 1.0160820\ttotal: 431ms\tremaining: 4.64s\n",
      "17:\tlearn: 0.9888336\ttotal: 439ms\tremaining: 4.44s\n",
      "18:\tlearn: 0.9624890\ttotal: 448ms\tremaining: 4.26s\n",
      "19:\tlearn: 0.9370598\ttotal: 455ms\tremaining: 4.1s\n",
      "20:\tlearn: 0.9123144\ttotal: 463ms\tremaining: 3.94s\n",
      "21:\tlearn: 0.8886009\ttotal: 472ms\tremaining: 3.82s\n",
      "22:\tlearn: 0.8654540\ttotal: 482ms\tremaining: 3.71s\n",
      "23:\tlearn: 0.8431661\ttotal: 490ms\tremaining: 3.6s\n",
      "24:\tlearn: 0.8217734\ttotal: 499ms\tremaining: 3.49s\n",
      "25:\tlearn: 0.8011509\ttotal: 507ms\tremaining: 3.39s\n",
      "26:\tlearn: 0.7810433\ttotal: 517ms\tremaining: 3.31s\n",
      "27:\tlearn: 0.7618177\ttotal: 525ms\tremaining: 3.22s\n",
      "28:\tlearn: 0.7432960\ttotal: 534ms\tremaining: 3.15s\n",
      "29:\tlearn: 0.7254612\ttotal: 542ms\tremaining: 3.07s\n",
      "30:\tlearn: 0.7082188\ttotal: 550ms\tremaining: 3s\n",
      "31:\tlearn: 0.6916128\ttotal: 558ms\tremaining: 2.93s\n",
      "32:\tlearn: 0.6756704\ttotal: 567ms\tremaining: 2.87s\n",
      "33:\tlearn: 0.6601901\ttotal: 574ms\tremaining: 2.8s\n",
      "34:\tlearn: 0.6453220\ttotal: 583ms\tremaining: 2.75s\n",
      "35:\tlearn: 0.6309304\ttotal: 590ms\tremaining: 2.69s\n",
      "36:\tlearn: 0.6171702\ttotal: 599ms\tremaining: 2.64s\n",
      "37:\tlearn: 0.6039072\ttotal: 607ms\tremaining: 2.59s\n",
      "38:\tlearn: 0.5912753\ttotal: 613ms\tremaining: 2.53s\n",
      "39:\tlearn: 0.5789928\ttotal: 621ms\tremaining: 2.48s\n",
      "40:\tlearn: 0.5673148\ttotal: 628ms\tremaining: 2.43s\n",
      "41:\tlearn: 0.5559744\ttotal: 635ms\tremaining: 2.39s\n",
      "42:\tlearn: 0.5450872\ttotal: 644ms\tremaining: 2.35s\n",
      "43:\tlearn: 0.5345977\ttotal: 653ms\tremaining: 2.31s\n",
      "44:\tlearn: 0.5246555\ttotal: 660ms\tremaining: 2.27s\n",
      "45:\tlearn: 0.5151180\ttotal: 668ms\tremaining: 2.24s\n",
      "46:\tlearn: 0.5059778\ttotal: 675ms\tremaining: 2.2s\n",
      "47:\tlearn: 0.4971691\ttotal: 685ms\tremaining: 2.17s\n",
      "48:\tlearn: 0.4887675\ttotal: 692ms\tremaining: 2.13s\n",
      "49:\tlearn: 0.4807651\ttotal: 699ms\tremaining: 2.1s\n",
      "50:\tlearn: 0.4730934\ttotal: 706ms\tremaining: 2.06s\n",
      "51:\tlearn: 0.4657244\ttotal: 714ms\tremaining: 2.03s\n",
      "52:\tlearn: 0.4586422\ttotal: 721ms\tremaining: 2s\n",
      "53:\tlearn: 0.4518393\ttotal: 728ms\tremaining: 1.97s\n",
      "54:\tlearn: 0.4453920\ttotal: 735ms\tremaining: 1.94s\n",
      "55:\tlearn: 0.4392570\ttotal: 742ms\tremaining: 1.91s\n",
      "56:\tlearn: 0.4334415\ttotal: 749ms\tremaining: 1.88s\n",
      "57:\tlearn: 0.4278967\ttotal: 755ms\tremaining: 1.85s\n",
      "58:\tlearn: 0.4225432\ttotal: 763ms\tremaining: 1.82s\n",
      "59:\tlearn: 0.4174739\ttotal: 769ms\tremaining: 1.79s\n",
      "60:\tlearn: 0.4126391\ttotal: 776ms\tremaining: 1.77s\n",
      "61:\tlearn: 0.4079957\ttotal: 784ms\tremaining: 1.74s\n",
      "62:\tlearn: 0.4036636\ttotal: 791ms\tremaining: 1.72s\n",
      "63:\tlearn: 0.3995351\ttotal: 798ms\tremaining: 1.7s\n",
      "64:\tlearn: 0.3955360\ttotal: 806ms\tremaining: 1.67s\n",
      "65:\tlearn: 0.3917938\ttotal: 811ms\tremaining: 1.65s\n",
      "66:\tlearn: 0.3881721\ttotal: 818ms\tremaining: 1.62s\n",
      "67:\tlearn: 0.3847332\ttotal: 826ms\tremaining: 1.6s\n",
      "68:\tlearn: 0.3814768\ttotal: 833ms\tremaining: 1.58s\n",
      "69:\tlearn: 0.3783200\ttotal: 841ms\tremaining: 1.56s\n",
      "70:\tlearn: 0.3754520\ttotal: 848ms\tremaining: 1.54s\n",
      "71:\tlearn: 0.3727555\ttotal: 855ms\tremaining: 1.52s\n",
      "72:\tlearn: 0.3700783\ttotal: 862ms\tremaining: 1.5s\n",
      "73:\tlearn: 0.3676349\ttotal: 869ms\tremaining: 1.48s\n",
      "74:\tlearn: 0.3652320\ttotal: 875ms\tremaining: 1.46s\n",
      "75:\tlearn: 0.3629720\ttotal: 882ms\tremaining: 1.44s\n",
      "76:\tlearn: 0.3608465\ttotal: 889ms\tremaining: 1.42s\n",
      "77:\tlearn: 0.3589103\ttotal: 896ms\tremaining: 1.4s\n",
      "78:\tlearn: 0.3569560\ttotal: 904ms\tremaining: 1.39s\n",
      "79:\tlearn: 0.3551186\ttotal: 911ms\tremaining: 1.37s\n",
      "80:\tlearn: 0.3534000\ttotal: 917ms\tremaining: 1.35s\n",
      "81:\tlearn: 0.3518008\ttotal: 924ms\tremaining: 1.33s\n",
      "82:\tlearn: 0.3502524\ttotal: 931ms\tremaining: 1.31s\n",
      "83:\tlearn: 0.3487576\ttotal: 938ms\tremaining: 1.29s\n",
      "84:\tlearn: 0.3474042\ttotal: 944ms\tremaining: 1.28s\n",
      "85:\tlearn: 0.3460843\ttotal: 952ms\tremaining: 1.26s\n",
      "86:\tlearn: 0.3448451\ttotal: 958ms\tremaining: 1.24s\n",
      "87:\tlearn: 0.3437350\ttotal: 965ms\tremaining: 1.23s\n",
      "88:\tlearn: 0.3426674\ttotal: 972ms\tremaining: 1.21s\n",
      "89:\tlearn: 0.3416460\ttotal: 978ms\tremaining: 1.2s\n",
      "90:\tlearn: 0.3406477\ttotal: 985ms\tremaining: 1.18s\n",
      "91:\tlearn: 0.3396900\ttotal: 992ms\tremaining: 1.16s\n",
      "92:\tlearn: 0.3388603\ttotal: 1000ms\tremaining: 1.15s\n",
      "93:\tlearn: 0.3380185\ttotal: 1.01s\tremaining: 1.14s\n",
      "94:\tlearn: 0.3372030\ttotal: 1.01s\tremaining: 1.12s\n",
      "95:\tlearn: 0.3364627\ttotal: 1.02s\tremaining: 1.11s\n",
      "96:\tlearn: 0.3357412\ttotal: 1.03s\tremaining: 1.09s\n",
      "97:\tlearn: 0.3351296\ttotal: 1.04s\tremaining: 1.08s\n",
      "98:\tlearn: 0.3345046\ttotal: 1.04s\tremaining: 1.06s\n",
      "99:\tlearn: 0.3339005\ttotal: 1.05s\tremaining: 1.05s\n",
      "100:\tlearn: 0.3333420\ttotal: 1.06s\tremaining: 1.03s\n",
      "101:\tlearn: 0.3328658\ttotal: 1.06s\tremaining: 1.02s\n",
      "102:\tlearn: 0.3324006\ttotal: 1.07s\tremaining: 1.01s\n",
      "103:\tlearn: 0.3319311\ttotal: 1.08s\tremaining: 994ms\n",
      "104:\tlearn: 0.3314579\ttotal: 1.08s\tremaining: 981ms\n",
      "105:\tlearn: 0.3310488\ttotal: 1.09s\tremaining: 967ms\n",
      "106:\tlearn: 0.3307026\ttotal: 1.1s\tremaining: 953ms\n",
      "107:\tlearn: 0.3303298\ttotal: 1.1s\tremaining: 940ms\n",
      "108:\tlearn: 0.3299558\ttotal: 1.11s\tremaining: 927ms\n",
      "109:\tlearn: 0.3295909\ttotal: 1.12s\tremaining: 914ms\n",
      "110:\tlearn: 0.3292748\ttotal: 1.12s\tremaining: 902ms\n",
      "111:\tlearn: 0.3289585\ttotal: 1.13s\tremaining: 889ms\n",
      "112:\tlearn: 0.3286451\ttotal: 1.14s\tremaining: 876ms\n",
      "113:\tlearn: 0.3283656\ttotal: 1.14s\tremaining: 864ms\n",
      "114:\tlearn: 0.3281208\ttotal: 1.15s\tremaining: 851ms\n",
      "115:\tlearn: 0.3278615\ttotal: 1.16s\tremaining: 839ms\n",
      "116:\tlearn: 0.3276096\ttotal: 1.17s\tremaining: 827ms\n",
      "117:\tlearn: 0.3274002\ttotal: 1.17s\tremaining: 816ms\n",
      "118:\tlearn: 0.3272184\ttotal: 1.18s\tremaining: 805ms\n",
      "119:\tlearn: 0.3270446\ttotal: 1.19s\tremaining: 794ms\n",
      "120:\tlearn: 0.3268316\ttotal: 1.2s\tremaining: 783ms\n",
      "121:\tlearn: 0.3266752\ttotal: 1.21s\tremaining: 771ms\n",
      "122:\tlearn: 0.3265318\ttotal: 1.22s\tremaining: 761ms\n",
      "123:\tlearn: 0.3264120\ttotal: 1.22s\tremaining: 749ms\n",
      "124:\tlearn: 0.3262727\ttotal: 1.23s\tremaining: 738ms\n",
      "125:\tlearn: 0.3261431\ttotal: 1.24s\tremaining: 727ms\n",
      "126:\tlearn: 0.3260112\ttotal: 1.24s\tremaining: 715ms\n",
      "127:\tlearn: 0.3258995\ttotal: 1.25s\tremaining: 704ms\n",
      "128:\tlearn: 0.3257755\ttotal: 1.26s\tremaining: 692ms\n",
      "129:\tlearn: 0.3256718\ttotal: 1.26s\tremaining: 681ms\n",
      "130:\tlearn: 0.3255598\ttotal: 1.27s\tremaining: 670ms\n",
      "131:\tlearn: 0.3254890\ttotal: 1.28s\tremaining: 658ms\n",
      "132:\tlearn: 0.3253709\ttotal: 1.28s\tremaining: 647ms\n",
      "133:\tlearn: 0.3252884\ttotal: 1.29s\tremaining: 636ms\n",
      "134:\tlearn: 0.3251836\ttotal: 1.3s\tremaining: 625ms\n",
      "135:\tlearn: 0.3251083\ttotal: 1.31s\tremaining: 615ms\n",
      "136:\tlearn: 0.3250506\ttotal: 1.31s\tremaining: 604ms\n",
      "137:\tlearn: 0.3249925\ttotal: 1.32s\tremaining: 593ms\n",
      "138:\tlearn: 0.3249125\ttotal: 1.33s\tremaining: 582ms\n",
      "139:\tlearn: 0.3248523\ttotal: 1.33s\tremaining: 572ms\n",
      "140:\tlearn: 0.3247675\ttotal: 1.34s\tremaining: 561ms\n",
      "141:\tlearn: 0.3247235\ttotal: 1.35s\tremaining: 551ms\n",
      "142:\tlearn: 0.3246910\ttotal: 1.36s\tremaining: 541ms\n",
      "143:\tlearn: 0.3246339\ttotal: 1.36s\tremaining: 531ms\n",
      "144:\tlearn: 0.3245822\ttotal: 1.37s\tremaining: 521ms\n",
      "145:\tlearn: 0.3245268\ttotal: 1.38s\tremaining: 511ms\n",
      "146:\tlearn: 0.3244609\ttotal: 1.39s\tremaining: 501ms\n",
      "147:\tlearn: 0.3244166\ttotal: 1.4s\tremaining: 491ms\n",
      "148:\tlearn: 0.3243776\ttotal: 1.41s\tremaining: 481ms\n",
      "149:\tlearn: 0.3243536\ttotal: 1.41s\tremaining: 471ms\n",
      "150:\tlearn: 0.3243426\ttotal: 1.42s\tremaining: 461ms\n",
      "151:\tlearn: 0.3242691\ttotal: 1.43s\tremaining: 451ms\n",
      "152:\tlearn: 0.3242369\ttotal: 1.44s\tremaining: 441ms\n",
      "153:\tlearn: 0.3242071\ttotal: 1.44s\tremaining: 431ms\n",
      "154:\tlearn: 0.3241309\ttotal: 1.45s\tremaining: 421ms\n",
      "155:\tlearn: 0.3240135\ttotal: 1.46s\tremaining: 411ms\n",
      "156:\tlearn: 0.3239528\ttotal: 1.47s\tremaining: 401ms\n",
      "157:\tlearn: 0.3239127\ttotal: 1.47s\tremaining: 392ms\n",
      "158:\tlearn: 0.3238901\ttotal: 1.48s\tremaining: 382ms\n",
      "159:\tlearn: 0.3238485\ttotal: 1.49s\tremaining: 372ms\n",
      "160:\tlearn: 0.3237875\ttotal: 1.5s\tremaining: 362ms\n",
      "161:\tlearn: 0.3237485\ttotal: 1.5s\tremaining: 352ms\n",
      "162:\tlearn: 0.3237369\ttotal: 1.51s\tremaining: 343ms\n",
      "163:\tlearn: 0.3236719\ttotal: 1.52s\tremaining: 333ms\n"
     ]
    },
    {
     "name": "stdout",
     "output_type": "stream",
     "text": [
      "164:\tlearn: 0.3236221\ttotal: 1.52s\tremaining: 324ms\n",
      "165:\tlearn: 0.3235961\ttotal: 1.53s\tremaining: 314ms\n",
      "166:\tlearn: 0.3235403\ttotal: 1.54s\tremaining: 305ms\n",
      "167:\tlearn: 0.3234822\ttotal: 1.55s\tremaining: 295ms\n",
      "168:\tlearn: 0.3234513\ttotal: 1.55s\tremaining: 285ms\n",
      "169:\tlearn: 0.3234349\ttotal: 1.56s\tremaining: 276ms\n",
      "170:\tlearn: 0.3233982\ttotal: 1.57s\tremaining: 266ms\n",
      "171:\tlearn: 0.3233440\ttotal: 1.58s\tremaining: 257ms\n",
      "172:\tlearn: 0.3232828\ttotal: 1.58s\tremaining: 247ms\n",
      "173:\tlearn: 0.3232561\ttotal: 1.59s\tremaining: 238ms\n",
      "174:\tlearn: 0.3231880\ttotal: 1.6s\tremaining: 228ms\n",
      "175:\tlearn: 0.3231359\ttotal: 1.6s\tremaining: 219ms\n",
      "176:\tlearn: 0.3230926\ttotal: 1.61s\tremaining: 209ms\n",
      "177:\tlearn: 0.3230597\ttotal: 1.62s\tremaining: 200ms\n",
      "178:\tlearn: 0.3230071\ttotal: 1.63s\tremaining: 191ms\n",
      "179:\tlearn: 0.3229567\ttotal: 1.63s\tremaining: 181ms\n",
      "180:\tlearn: 0.3229358\ttotal: 1.64s\tremaining: 172ms\n",
      "181:\tlearn: 0.3229121\ttotal: 1.65s\tremaining: 163ms\n",
      "182:\tlearn: 0.3228862\ttotal: 1.65s\tremaining: 154ms\n",
      "183:\tlearn: 0.3228596\ttotal: 1.66s\tremaining: 144ms\n",
      "184:\tlearn: 0.3228222\ttotal: 1.67s\tremaining: 135ms\n",
      "185:\tlearn: 0.3227829\ttotal: 1.67s\tremaining: 126ms\n",
      "186:\tlearn: 0.3227668\ttotal: 1.68s\tremaining: 117ms\n",
      "187:\tlearn: 0.3227468\ttotal: 1.69s\tremaining: 108ms\n",
      "188:\tlearn: 0.3226996\ttotal: 1.7s\tremaining: 98.7ms\n",
      "189:\tlearn: 0.3226829\ttotal: 1.7s\tremaining: 89.7ms\n",
      "190:\tlearn: 0.3226688\ttotal: 1.71s\tremaining: 80.7ms\n",
      "191:\tlearn: 0.3226539\ttotal: 1.72s\tremaining: 71.6ms\n",
      "192:\tlearn: 0.3226059\ttotal: 1.73s\tremaining: 62.6ms\n",
      "193:\tlearn: 0.3225969\ttotal: 1.73s\tremaining: 53.6ms\n",
      "194:\tlearn: 0.3225692\ttotal: 1.74s\tremaining: 44.6ms\n",
      "195:\tlearn: 0.3225456\ttotal: 1.75s\tremaining: 35.7ms\n",
      "196:\tlearn: 0.3225354\ttotal: 1.75s\tremaining: 26.7ms\n",
      "197:\tlearn: 0.3225061\ttotal: 1.76s\tremaining: 17.8ms\n",
      "198:\tlearn: 0.3224710\ttotal: 1.77s\tremaining: 8.88ms\n",
      "199:\tlearn: 0.3224633\ttotal: 1.77s\tremaining: 0us\n"
     ]
    }
   ],
   "source": [
    "cbr.fit(X_train, y_train);"
   ]
  },
  {
   "cell_type": "code",
   "execution_count": 82,
   "metadata": {},
   "outputs": [],
   "source": [
    "cbr_pred = cbr.predict(X_test)"
   ]
  },
  {
   "cell_type": "code",
   "execution_count": 83,
   "metadata": {},
   "outputs": [
    {
     "data": {
      "text/plain": [
       "0.9529973420875437"
      ]
     },
     "execution_count": 83,
     "metadata": {},
     "output_type": "execute_result"
    }
   ],
   "source": [
    "cbr_score = r2_score(y_test,cbr_pred)\n",
    "cbr_score"
   ]
  },
  {
   "cell_type": "markdown",
   "metadata": {},
   "source": [
    "## Conclusion"
   ]
  },
  {
   "cell_type": "code",
   "execution_count": 85,
   "metadata": {},
   "outputs": [
    {
     "data": {
      "text/html": [
       "<div>\n",
       "<style scoped>\n",
       "    .dataframe tbody tr th:only-of-type {\n",
       "        vertical-align: middle;\n",
       "    }\n",
       "\n",
       "    .dataframe tbody tr th {\n",
       "        vertical-align: top;\n",
       "    }\n",
       "\n",
       "    .dataframe thead th {\n",
       "        text-align: right;\n",
       "    }\n",
       "</style>\n",
       "<table border=\"1\" class=\"dataframe\">\n",
       "  <thead>\n",
       "    <tr style=\"text-align: right;\">\n",
       "      <th></th>\n",
       "      <th>R2 Score</th>\n",
       "    </tr>\n",
       "    <tr>\n",
       "      <th>Model</th>\n",
       "      <th></th>\n",
       "    </tr>\n",
       "  </thead>\n",
       "  <tbody>\n",
       "    <tr>\n",
       "      <th>Linear Regression</th>\n",
       "      <td>0.335306</td>\n",
       "    </tr>\n",
       "    <tr>\n",
       "      <th>Decision Tree Regressor</th>\n",
       "      <td>0.971608</td>\n",
       "    </tr>\n",
       "    <tr>\n",
       "      <th>Random Forest Regressor</th>\n",
       "      <td>0.983548</td>\n",
       "    </tr>\n",
       "    <tr>\n",
       "      <th>CatBoost Regressor</th>\n",
       "      <td>0.952997</td>\n",
       "    </tr>\n",
       "  </tbody>\n",
       "</table>\n",
       "</div>"
      ],
      "text/plain": [
       "                         R2 Score\n",
       "Model                            \n",
       "Linear Regression        0.335306\n",
       "Decision Tree Regressor  0.971608\n",
       "Random Forest Regressor  0.983548\n",
       "CatBoost Regressor       0.952997"
      ]
     },
     "execution_count": 85,
     "metadata": {},
     "output_type": "execute_result"
    }
   ],
   "source": [
    "model = pd.DataFrame({\n",
    "                       'Model' : ['Linear Regression' ,'Decision Tree Regressor' ,'Random Forest Regressor' ,'CatBoost Regressor'],\n",
    "                       'R2 Score' : [lr_score ,dt_score ,rf_score ,cbr_score]\n",
    "                     })\n",
    "\n",
    "model.set_index('Model')"
   ]
  }
 ],
 "metadata": {
  "kernelspec": {
   "display_name": "Python 3",
   "language": "python",
   "name": "python3"
  },
  "language_info": {
   "codemirror_mode": {
    "name": "ipython",
    "version": 3
   },
   "file_extension": ".py",
   "mimetype": "text/x-python",
   "name": "python",
   "nbconvert_exporter": "python",
   "pygments_lexer": "ipython3",
   "version": "3.8.5"
  }
 },
 "nbformat": 4,
 "nbformat_minor": 4
}
